{
 "cells": [
  {
   "cell_type": "markdown",
   "id": "03c3bb8b",
   "metadata": {},
   "source": [
    "<div style=\"color: Black; \n",
    "              display: fill;\n",
    "              text-align:center;\n",
    "              border-radius: 20px;\n",
    "              background-color: #003366;\n",
    "              box-shadow: rgba(0, 0, 0, 0.15) 0px 10px 5px, rgba(0, 0, 0, 0.12) 0px 6px 6px;\">\n",
    "    <h1 style=\"padding: 13px; \n",
    "                 color: White;\n",
    "                 font-size: 30px;\n",
    "                 font-weight: bold;\n",
    "                 font-family: Calibri;\">🔹Introduction to Liver Cirrhosis Stage Detection\n",
    "    </h1>\n",
    "</div>\n",
    "\n",
    "<div style=\"background-color:#e6f2ff; padding:30px; border-radius:8px; box-shadow:0 4px 10px rgba(0,0,0,0.1); margin-bottom:30px;\">\n",
    "  <p style=\"font-size:16px; line-height:1.6; margin-bottom:20px;\">\n",
    "    Liver cirrhosis is a condition in which the liver becomes severely scarred due to long-term damage. This scarring interferes with the liver's ability to function properly and can ultimately lead to liver failure. The detection of liver cirrhosis at an early stage is crucial to prevent the progression to more severe stages, which may lead to life-threatening conditions.\n",
    "  </p> \n",
    "\n",
    "  <p style=\"font-size:16px; line-height:1.6; margin-bottom:20px;\">\n",
    "    The detection of liver cirrhosis stages is critical in the medical field, as it helps physicians determine the appropriate treatment plan and monitor the patient's progress. Early detection can significantly improve the patient's prognosis and quality of life.\n",
    "  </p>\n",
    "\n",
    "  <p style=\"font-size:16px; line-height:1.6; margin-bottom:20px;\">\n",
    "    This project focuses on building a system that uses machine learning techniques to predict the stage of liver cirrhosis based on patient data, which can be used as a valuable tool for healthcare professionals.\n",
    "  </p>\n",
    "</div>\n"
   ]
  },
  {
   "cell_type": "markdown",
   "id": "573a663b",
   "metadata": {},
   "source": [
    "![Image](https://github.com/user-attachments/assets/027a77d0-c113-4191-a6a9-4254e49dba93)"
   ]
  },
  {
   "cell_type": "markdown",
   "id": "ebfc79a7",
   "metadata": {},
   "source": [
    "<div style=\"color: Black; \n",
    "              display: fill;\n",
    "              text-align:center;\n",
    "              border-radius: 20px;\n",
    "              background-color: #003366;\n",
    "              box-shadow: rgba(0, 0, 0, 0.15) 0px 10px 5px, rgba(0, 0, 0, 0.12) 0px 6px 6px;\">\n",
    "    <h1 style=\"padding: 13px; \n",
    "                 color: White;\n",
    "                 font-size: 30px;\n",
    "                 font-weight: bold;\n",
    "                 font-family: Calibri;\">🔹Project Introduction and Approach\n",
    "    </h1>\n",
    "</div>\n",
    "\n",
    "<div style=\"background-color:#e6f2ff; padding:30px; border-radius:8px; box-shadow:0 4px 10px rgba(0,0,0,0.1); margin-bottom:30px;\">\n",
    "  <p style=\"font-size:16px; line-height:1.6; margin-bottom:20px;\">\n",
    "    The primary objective of this project is to build a system that can predict the stage of liver cirrhosis using machine learning techniques. This system will take patient data as input and output the predicted liver cirrhosis stage.\n",
    "  </p>\n",
    "\n",
    "  <p style=\"font-size:16px; line-height:1.6; margin-bottom:20px;\">\n",
    "    We will use various classification algorithms to train the model and predict the target variable, which is the liver cirrhosis stage. The main approach involves the following steps:\n",
    "  </p>\n",
    "\n",
    "  <ul style=\"font-size:16px; line-height:1.6; margin-bottom:20px;\">\n",
    "    <li>Data preprocessing: Cleaning the dataset by handling missing values, encoding categorical variables, and scaling numerical features.</li>\n",
    "    <li>Model selection: Training multiple machine learning models, including Random Forest, Logistic Regression, and Decision Trees, to determine the most accurate one for liver cirrhosis stage prediction.</li>\n",
    "    <li>Hyperparameter tuning: Optimizing the model parameters to achieve the best performance.</li>\n",
    "    <li>Evaluation: Assessing the model's performance using metrics like accuracy, precision, recall, and F1-score.</li>\n",
    "  </ul>\n",
    "\n",
    "  <p style=\"font-size:16px; line-height:1.6; margin-bottom:20px;\">\n",
    "    The system will use historical data from patients, such as age, sex, and laboratory test results, to predict the cirrhosis stage. The final model will serve as an effective tool for diagnosing liver cirrhosis at different stages, helping doctors in their decision-making process.\n",
    "  </p>\n",
    "</div>\n"
   ]
  },
  {
   "cell_type": "markdown",
   "id": "4083b69e",
   "metadata": {},
   "source": [
    " <div style=\"color: Black; \n",
    "              display: fill;\n",
    "              text-align:center;\n",
    "              border-radius: 20px;\n",
    "              background-color: #003366;\n",
    "              box-shadow: rgba(0, 0, 0, 0.15) 0px 10px 5px, rgba(0, 0, 0, 0.12) 0px 6px 6px;\">\n",
    "    <h1 style=\"padding: 13px; \n",
    "                 color: White;\n",
    "                 font-size: 30px;\n",
    "                 font-weight: bold;\n",
    "                 font-family: Calibri;\">🔹Dataset Description\n",
    "    </h1>\n",
    "</div>\n",
    "\n",
    "<div style=\"background-color:#e6f2ff; padding:30px; border-radius:8px; box-shadow:0 4px 10px rgba(0,0,0,0.1); margin-bottom:30px;\">\n",
    "  <p style=\"font-size:16px; line-height:1.6; margin-bottom:20px;\">\n",
    "    The dataset used in this project is sourced from a Mayo Clinic study on primary biliary cirrhosis (PBC) of the liver, carried out from 1974 to 1984. Below is a description of the columns in the dataset:\n",
    "  </p>\n",
    "\n",
    "  <ul style=\"font-size:14px; line-height:1.6; margin-bottom:20px;\">\n",
    "    <li><strong>N_Days:</strong> Number of days between registration and the earlier of death, transplantation, or study analysis time in 1986.</li>\n",
    "    <li><strong>Status:</strong> Status of the patient (C: censored, CL: censored due to liver tx, D: death).</li>\n",
    "    <li><strong>Drug:</strong> Type of drug (D-penicillamine or placebo).</li>\n",
    "    <li><strong>Age:</strong> Age in days.</li>\n",
    "    <li><strong>Sex:</strong> Sex of the patient (M: male, F: female).</li>\n",
    "    <li><strong>Ascites:</strong> Presence of ascites (N: No, Y: Yes).</li>\n",
    "    <li><strong>Hepatomegaly:</strong> Presence of hepatomegaly (N: No, Y: Yes).</li>\n",
    "    <li><strong>Spiders:</strong> Presence of spiders (N: No, Y: Yes).</li>\n",
    "    <li><strong>Edema:</strong> Presence of edema (N: no edema/no diuretic therapy, S: edema without diuretics, Y: edema despite diuretic therapy).</li>\n",
    "    <li><strong>Bilirubin:</strong> Serum bilirubin in [mg/dl].</li>\n",
    "    <li><strong>Cholesterol:</strong> Serum cholesterol in [mg/dl].</li>\n",
    "    <li><strong>Albumin:</strong> Albumin in [gm/dl].</li>\n",
    "    <li><strong>Copper:</strong> Urine copper in [ug/day].</li>\n",
    "    <li><strong>Alk_Phos:</strong> Alkaline phosphatase in [U/liter].</li>\n",
    "    <li><strong>SGOT:</strong> SGOT in [U/ml] (a liver enzyme).</li>\n",
    "    <li><strong>Triglycerides:</strong> Triglycerides in [mg/dl].</li>\n",
    "    <li><strong>Platelets:</strong> Platelets per cubic [ml/1000].</li>\n",
    "    <li><strong>Prothrombin:</strong> Prothrombin time in seconds [s].</li>\n",
    "    <li><strong>Stage:</strong> Histologic stage of disease (1, 2, or 3).</li>\n",
    "  </ul>\n",
    "\n",
    "  <p style=\"font-size:16px; line-height:1.6; margin-bottom:20px;\">\n",
    "    The dataset consists of patient records with attributes that help in detecting the stage of liver cirrhosis. The target column, \"Stage,\" represents the histologic stage of liver disease and is used for model prediction.\n",
    "  </p>\n",
    "</div>\n"
   ]
  },
  {
   "cell_type": "markdown",
   "id": "52ec6dcf",
   "metadata": {},
   "source": [
    "<div style=\"color: Black; \n",
    "              display: fill;\n",
    "              text-align:center;\n",
    "              border-radius: 20px;\n",
    "              background-color: #003366;\n",
    "              box-shadow: rgba(0, 0, 0, 0.15) 0px 10px 5px, rgba(0, 0, 0, 0.12) 0px 6px 6px;\">\n",
    "    <h1 style=\"padding: 13px; \n",
    "                 color: White;\n",
    "                 font-size: 30px;\n",
    "                 font-weight: bold;\n",
    "                 font-family: Calibri;\">🔹 Step 1: Import Libraries\n",
    "    </h1>\n",
    "</div>"
   ]
  },
  {
   "cell_type": "code",
   "execution_count": 95,
   "id": "5d65075e",
   "metadata": {},
   "outputs": [],
   "source": [
    "import numpy as np\n",
    "import pandas as pd\n",
    "import matplotlib.pyplot as plt \n",
    "import seaborn as sns\n",
    "import pickle\n",
    "\n",
    "from sklearn.linear_model import LogisticRegression\n",
    "from sklearn.model_selection import train_test_split,GridSearchCV,RandomizedSearchCV\n",
    "from sklearn.preprocessing import MinMaxScaler,StandardScaler,LabelEncoder\n",
    "\n",
    "from statsmodels.stats.outliers_influence import variance_inflation_factor\n",
    "from sklearn.metrics import accuracy_score,confusion_matrix, classification_report,precision_score, recall_score\n",
    "from sklearn.tree import DecisionTreeClassifier\n",
    "from sklearn.ensemble import RandomForestClassifier,AdaBoostClassifier\n",
    "\n",
    "import warnings\n",
    "warnings.filterwarnings('ignore')"
   ]
  },
  {
   "cell_type": "markdown",
   "id": "c7cb0410",
   "metadata": {},
   "source": [
    "<div style=\"color: Black; \n",
    "              display: fill;\n",
    "              text-align:center;\n",
    "              border-radius: 20px;\n",
    "              background-color: #003366;\n",
    "              box-shadow: rgba(0, 0, 0, 0.15) 0px 10px 5px, rgba(0, 0, 0, 0.12) 0px 6px 6px;\">\n",
    "    <h1 style=\"padding: 13px; \n",
    "                 color: White;\n",
    "                 font-size: 30px;\n",
    "                 font-weight: bold;\n",
    "                 font-family: Calibri;\">🔹 Step 2: Data Gathering\n",
    "    </h1>\n",
    "</div>"
   ]
  },
  {
   "cell_type": "code",
   "execution_count": 96,
   "id": "bc8096d6",
   "metadata": {},
   "outputs": [
    {
     "data": {
      "text/html": [
       "<div>\n",
       "<style scoped>\n",
       "    .dataframe tbody tr th:only-of-type {\n",
       "        vertical-align: middle;\n",
       "    }\n",
       "\n",
       "    .dataframe tbody tr th {\n",
       "        vertical-align: top;\n",
       "    }\n",
       "\n",
       "    .dataframe thead th {\n",
       "        text-align: right;\n",
       "    }\n",
       "</style>\n",
       "<table border=\"1\" class=\"dataframe\">\n",
       "  <thead>\n",
       "    <tr style=\"text-align: right;\">\n",
       "      <th></th>\n",
       "      <th>N_Days</th>\n",
       "      <th>Status</th>\n",
       "      <th>Drug</th>\n",
       "      <th>Age</th>\n",
       "      <th>Sex</th>\n",
       "      <th>Ascites</th>\n",
       "      <th>Hepatomegaly</th>\n",
       "      <th>Spiders</th>\n",
       "      <th>Edema</th>\n",
       "      <th>Bilirubin</th>\n",
       "      <th>Cholesterol</th>\n",
       "      <th>Albumin</th>\n",
       "      <th>Copper</th>\n",
       "      <th>Alk_Phos</th>\n",
       "      <th>SGOT</th>\n",
       "      <th>Tryglicerides</th>\n",
       "      <th>Platelets</th>\n",
       "      <th>Prothrombin</th>\n",
       "      <th>Stage</th>\n",
       "    </tr>\n",
       "  </thead>\n",
       "  <tbody>\n",
       "    <tr>\n",
       "      <th>0</th>\n",
       "      <td>2221</td>\n",
       "      <td>C</td>\n",
       "      <td>Placebo</td>\n",
       "      <td>18499</td>\n",
       "      <td>F</td>\n",
       "      <td>N</td>\n",
       "      <td>Y</td>\n",
       "      <td>N</td>\n",
       "      <td>N</td>\n",
       "      <td>0.5</td>\n",
       "      <td>149.000000</td>\n",
       "      <td>4.04</td>\n",
       "      <td>227.0</td>\n",
       "      <td>598.0</td>\n",
       "      <td>52.70</td>\n",
       "      <td>57.000000</td>\n",
       "      <td>256.0</td>\n",
       "      <td>9.9</td>\n",
       "      <td>1</td>\n",
       "    </tr>\n",
       "    <tr>\n",
       "      <th>1</th>\n",
       "      <td>1230</td>\n",
       "      <td>C</td>\n",
       "      <td>Placebo</td>\n",
       "      <td>19724</td>\n",
       "      <td>M</td>\n",
       "      <td>Y</td>\n",
       "      <td>N</td>\n",
       "      <td>Y</td>\n",
       "      <td>N</td>\n",
       "      <td>0.5</td>\n",
       "      <td>219.000000</td>\n",
       "      <td>3.93</td>\n",
       "      <td>22.0</td>\n",
       "      <td>663.0</td>\n",
       "      <td>45.00</td>\n",
       "      <td>75.000000</td>\n",
       "      <td>220.0</td>\n",
       "      <td>10.8</td>\n",
       "      <td>2</td>\n",
       "    </tr>\n",
       "    <tr>\n",
       "      <th>2</th>\n",
       "      <td>4184</td>\n",
       "      <td>C</td>\n",
       "      <td>Placebo</td>\n",
       "      <td>11839</td>\n",
       "      <td>F</td>\n",
       "      <td>N</td>\n",
       "      <td>N</td>\n",
       "      <td>N</td>\n",
       "      <td>N</td>\n",
       "      <td>0.5</td>\n",
       "      <td>320.000000</td>\n",
       "      <td>3.54</td>\n",
       "      <td>51.0</td>\n",
       "      <td>1243.0</td>\n",
       "      <td>122.45</td>\n",
       "      <td>80.000000</td>\n",
       "      <td>225.0</td>\n",
       "      <td>10.0</td>\n",
       "      <td>2</td>\n",
       "    </tr>\n",
       "    <tr>\n",
       "      <th>3</th>\n",
       "      <td>2090</td>\n",
       "      <td>D</td>\n",
       "      <td>Placebo</td>\n",
       "      <td>16467</td>\n",
       "      <td>F</td>\n",
       "      <td>N</td>\n",
       "      <td>N</td>\n",
       "      <td>N</td>\n",
       "      <td>N</td>\n",
       "      <td>0.7</td>\n",
       "      <td>255.000000</td>\n",
       "      <td>3.74</td>\n",
       "      <td>23.0</td>\n",
       "      <td>1024.0</td>\n",
       "      <td>77.50</td>\n",
       "      <td>58.000000</td>\n",
       "      <td>151.0</td>\n",
       "      <td>10.2</td>\n",
       "      <td>2</td>\n",
       "    </tr>\n",
       "    <tr>\n",
       "      <th>4</th>\n",
       "      <td>2105</td>\n",
       "      <td>D</td>\n",
       "      <td>Placebo</td>\n",
       "      <td>21699</td>\n",
       "      <td>F</td>\n",
       "      <td>N</td>\n",
       "      <td>Y</td>\n",
       "      <td>N</td>\n",
       "      <td>N</td>\n",
       "      <td>1.9</td>\n",
       "      <td>486.000000</td>\n",
       "      <td>3.54</td>\n",
       "      <td>74.0</td>\n",
       "      <td>1052.0</td>\n",
       "      <td>108.50</td>\n",
       "      <td>109.000000</td>\n",
       "      <td>151.0</td>\n",
       "      <td>11.5</td>\n",
       "      <td>1</td>\n",
       "    </tr>\n",
       "    <tr>\n",
       "      <th>...</th>\n",
       "      <td>...</td>\n",
       "      <td>...</td>\n",
       "      <td>...</td>\n",
       "      <td>...</td>\n",
       "      <td>...</td>\n",
       "      <td>...</td>\n",
       "      <td>...</td>\n",
       "      <td>...</td>\n",
       "      <td>...</td>\n",
       "      <td>...</td>\n",
       "      <td>...</td>\n",
       "      <td>...</td>\n",
       "      <td>...</td>\n",
       "      <td>...</td>\n",
       "      <td>...</td>\n",
       "      <td>...</td>\n",
       "      <td>...</td>\n",
       "      <td>...</td>\n",
       "      <td>...</td>\n",
       "    </tr>\n",
       "    <tr>\n",
       "      <th>24995</th>\n",
       "      <td>3584</td>\n",
       "      <td>D</td>\n",
       "      <td>D-penicillamine</td>\n",
       "      <td>23612</td>\n",
       "      <td>F</td>\n",
       "      <td>N</td>\n",
       "      <td>N</td>\n",
       "      <td>N</td>\n",
       "      <td>N</td>\n",
       "      <td>0.8</td>\n",
       "      <td>231.000000</td>\n",
       "      <td>3.87</td>\n",
       "      <td>173.0</td>\n",
       "      <td>9009.8</td>\n",
       "      <td>127.71</td>\n",
       "      <td>96.000000</td>\n",
       "      <td>295.0</td>\n",
       "      <td>11.0</td>\n",
       "      <td>2</td>\n",
       "    </tr>\n",
       "    <tr>\n",
       "      <th>24996</th>\n",
       "      <td>3584</td>\n",
       "      <td>D</td>\n",
       "      <td>D-penicillamine</td>\n",
       "      <td>23612</td>\n",
       "      <td>F</td>\n",
       "      <td>N</td>\n",
       "      <td>N</td>\n",
       "      <td>N</td>\n",
       "      <td>N</td>\n",
       "      <td>0.8</td>\n",
       "      <td>231.000000</td>\n",
       "      <td>3.87</td>\n",
       "      <td>173.0</td>\n",
       "      <td>9009.8</td>\n",
       "      <td>127.71</td>\n",
       "      <td>96.000000</td>\n",
       "      <td>295.0</td>\n",
       "      <td>11.0</td>\n",
       "      <td>2</td>\n",
       "    </tr>\n",
       "    <tr>\n",
       "      <th>24997</th>\n",
       "      <td>971</td>\n",
       "      <td>D</td>\n",
       "      <td>D-penicillamine</td>\n",
       "      <td>16736</td>\n",
       "      <td>F</td>\n",
       "      <td>N</td>\n",
       "      <td>Y</td>\n",
       "      <td>Y</td>\n",
       "      <td>Y</td>\n",
       "      <td>5.1</td>\n",
       "      <td>369.510563</td>\n",
       "      <td>3.23</td>\n",
       "      <td>18.0</td>\n",
       "      <td>790.0</td>\n",
       "      <td>179.80</td>\n",
       "      <td>124.702128</td>\n",
       "      <td>104.0</td>\n",
       "      <td>13.0</td>\n",
       "      <td>3</td>\n",
       "    </tr>\n",
       "    <tr>\n",
       "      <th>24998</th>\n",
       "      <td>3707</td>\n",
       "      <td>C</td>\n",
       "      <td>D-penicillamine</td>\n",
       "      <td>16990</td>\n",
       "      <td>F</td>\n",
       "      <td>N</td>\n",
       "      <td>Y</td>\n",
       "      <td>N</td>\n",
       "      <td>N</td>\n",
       "      <td>0.8</td>\n",
       "      <td>315.000000</td>\n",
       "      <td>4.24</td>\n",
       "      <td>13.0</td>\n",
       "      <td>1637.0</td>\n",
       "      <td>170.50</td>\n",
       "      <td>70.000000</td>\n",
       "      <td>426.0</td>\n",
       "      <td>10.9</td>\n",
       "      <td>2</td>\n",
       "    </tr>\n",
       "    <tr>\n",
       "      <th>24999</th>\n",
       "      <td>3707</td>\n",
       "      <td>C</td>\n",
       "      <td>D-penicillamine</td>\n",
       "      <td>16990</td>\n",
       "      <td>F</td>\n",
       "      <td>N</td>\n",
       "      <td>Y</td>\n",
       "      <td>N</td>\n",
       "      <td>N</td>\n",
       "      <td>0.8</td>\n",
       "      <td>315.000000</td>\n",
       "      <td>4.24</td>\n",
       "      <td>13.0</td>\n",
       "      <td>1637.0</td>\n",
       "      <td>170.50</td>\n",
       "      <td>70.000000</td>\n",
       "      <td>426.0</td>\n",
       "      <td>10.9</td>\n",
       "      <td>2</td>\n",
       "    </tr>\n",
       "  </tbody>\n",
       "</table>\n",
       "<p>25000 rows × 19 columns</p>\n",
       "</div>"
      ],
      "text/plain": [
       "       N_Days Status             Drug    Age Sex Ascites Hepatomegaly Spiders  \\\n",
       "0        2221      C          Placebo  18499   F       N            Y       N   \n",
       "1        1230      C          Placebo  19724   M       Y            N       Y   \n",
       "2        4184      C          Placebo  11839   F       N            N       N   \n",
       "3        2090      D          Placebo  16467   F       N            N       N   \n",
       "4        2105      D          Placebo  21699   F       N            Y       N   \n",
       "...       ...    ...              ...    ...  ..     ...          ...     ...   \n",
       "24995    3584      D  D-penicillamine  23612   F       N            N       N   \n",
       "24996    3584      D  D-penicillamine  23612   F       N            N       N   \n",
       "24997     971      D  D-penicillamine  16736   F       N            Y       Y   \n",
       "24998    3707      C  D-penicillamine  16990   F       N            Y       N   \n",
       "24999    3707      C  D-penicillamine  16990   F       N            Y       N   \n",
       "\n",
       "      Edema  Bilirubin  Cholesterol  Albumin  Copper  Alk_Phos    SGOT  \\\n",
       "0         N        0.5   149.000000     4.04   227.0     598.0   52.70   \n",
       "1         N        0.5   219.000000     3.93    22.0     663.0   45.00   \n",
       "2         N        0.5   320.000000     3.54    51.0    1243.0  122.45   \n",
       "3         N        0.7   255.000000     3.74    23.0    1024.0   77.50   \n",
       "4         N        1.9   486.000000     3.54    74.0    1052.0  108.50   \n",
       "...     ...        ...          ...      ...     ...       ...     ...   \n",
       "24995     N        0.8   231.000000     3.87   173.0    9009.8  127.71   \n",
       "24996     N        0.8   231.000000     3.87   173.0    9009.8  127.71   \n",
       "24997     Y        5.1   369.510563     3.23    18.0     790.0  179.80   \n",
       "24998     N        0.8   315.000000     4.24    13.0    1637.0  170.50   \n",
       "24999     N        0.8   315.000000     4.24    13.0    1637.0  170.50   \n",
       "\n",
       "       Tryglicerides  Platelets  Prothrombin  Stage  \n",
       "0          57.000000      256.0          9.9      1  \n",
       "1          75.000000      220.0         10.8      2  \n",
       "2          80.000000      225.0         10.0      2  \n",
       "3          58.000000      151.0         10.2      2  \n",
       "4         109.000000      151.0         11.5      1  \n",
       "...              ...        ...          ...    ...  \n",
       "24995      96.000000      295.0         11.0      2  \n",
       "24996      96.000000      295.0         11.0      2  \n",
       "24997     124.702128      104.0         13.0      3  \n",
       "24998      70.000000      426.0         10.9      2  \n",
       "24999      70.000000      426.0         10.9      2  \n",
       "\n",
       "[25000 rows x 19 columns]"
      ]
     },
     "execution_count": 96,
     "metadata": {},
     "output_type": "execute_result"
    }
   ],
   "source": [
    "df = pd.read_csv(r\"D:\\Jupyter python\\New Datasets\\Unified Mentor\\liver_cirrhosis_stage\\liver_cirrhosis.csv\")\n",
    "df"
   ]
  },
  {
   "cell_type": "markdown",
   "id": "59b30fe4",
   "metadata": {},
   "source": [
    " \n",
    "<div style=\"color: Black; \n",
    "              display: fill;\n",
    "              text-align:center;\n",
    "              border-radius: 20px;\n",
    "              background-color: #003366;\n",
    "              box-shadow: rgba(0, 0, 0, 0.15) 0px 10px 5px, rgba(0, 0, 0, 0.12) 0px 6px 6px;\">\n",
    "    <h1 style=\"padding: 13px; \n",
    "                 color: White;\n",
    "                 font-size: 30px;\n",
    "                 font-weight: bold;\n",
    "                 font-family: Calibri;\">🔹 Step 3: Exploratory Data Analysis (EDA) \n",
    "    </h1>\n",
    "</div>"
   ]
  },
  {
   "cell_type": "code",
   "execution_count": 97,
   "id": "e9ac7046",
   "metadata": {},
   "outputs": [
    {
     "data": {
      "text/plain": [
       "(25000, 19)"
      ]
     },
     "execution_count": 97,
     "metadata": {},
     "output_type": "execute_result"
    }
   ],
   "source": [
    "df.shape"
   ]
  },
  {
   "cell_type": "code",
   "execution_count": 98,
   "id": "bea86ed2",
   "metadata": {},
   "outputs": [
    {
     "name": "stdout",
     "output_type": "stream",
     "text": [
      "<class 'pandas.core.frame.DataFrame'>\n",
      "RangeIndex: 25000 entries, 0 to 24999\n",
      "Data columns (total 19 columns):\n",
      " #   Column         Non-Null Count  Dtype  \n",
      "---  ------         --------------  -----  \n",
      " 0   N_Days         25000 non-null  int64  \n",
      " 1   Status         25000 non-null  object \n",
      " 2   Drug           25000 non-null  object \n",
      " 3   Age            25000 non-null  int64  \n",
      " 4   Sex            25000 non-null  object \n",
      " 5   Ascites        25000 non-null  object \n",
      " 6   Hepatomegaly   25000 non-null  object \n",
      " 7   Spiders        25000 non-null  object \n",
      " 8   Edema          25000 non-null  object \n",
      " 9   Bilirubin      25000 non-null  float64\n",
      " 10  Cholesterol    25000 non-null  float64\n",
      " 11  Albumin        25000 non-null  float64\n",
      " 12  Copper         25000 non-null  float64\n",
      " 13  Alk_Phos       25000 non-null  float64\n",
      " 14  SGOT           25000 non-null  float64\n",
      " 15  Tryglicerides  25000 non-null  float64\n",
      " 16  Platelets      25000 non-null  float64\n",
      " 17  Prothrombin    25000 non-null  float64\n",
      " 18  Stage          25000 non-null  int64  \n",
      "dtypes: float64(9), int64(3), object(7)\n",
      "memory usage: 3.6+ MB\n"
     ]
    }
   ],
   "source": [
    "df.info() # Checking for data types and info about dataframe"
   ]
  },
  {
   "cell_type": "code",
   "execution_count": 99,
   "id": "5441f4dd",
   "metadata": {},
   "outputs": [
    {
     "data": {
      "text/plain": [
       "N_Days           0\n",
       "Status           0\n",
       "Drug             0\n",
       "Age              0\n",
       "Sex              0\n",
       "Ascites          0\n",
       "Hepatomegaly     0\n",
       "Spiders          0\n",
       "Edema            0\n",
       "Bilirubin        0\n",
       "Cholesterol      0\n",
       "Albumin          0\n",
       "Copper           0\n",
       "Alk_Phos         0\n",
       "SGOT             0\n",
       "Tryglicerides    0\n",
       "Platelets        0\n",
       "Prothrombin      0\n",
       "Stage            0\n",
       "dtype: int64"
      ]
     },
     "execution_count": 99,
     "metadata": {},
     "output_type": "execute_result"
    }
   ],
   "source": [
    "df.isna().sum()  # Checking for null values"
   ]
  },
  {
   "cell_type": "code",
   "execution_count": 100,
   "id": "b5039f0f",
   "metadata": {},
   "outputs": [
    {
     "data": {
      "text/html": [
       "<div>\n",
       "<style scoped>\n",
       "    .dataframe tbody tr th:only-of-type {\n",
       "        vertical-align: middle;\n",
       "    }\n",
       "\n",
       "    .dataframe tbody tr th {\n",
       "        vertical-align: top;\n",
       "    }\n",
       "\n",
       "    .dataframe thead th {\n",
       "        text-align: right;\n",
       "    }\n",
       "</style>\n",
       "<table border=\"1\" class=\"dataframe\">\n",
       "  <thead>\n",
       "    <tr style=\"text-align: right;\">\n",
       "      <th></th>\n",
       "      <th>N_Days</th>\n",
       "      <th>Age</th>\n",
       "      <th>Bilirubin</th>\n",
       "      <th>Cholesterol</th>\n",
       "      <th>Albumin</th>\n",
       "      <th>Copper</th>\n",
       "      <th>Alk_Phos</th>\n",
       "      <th>SGOT</th>\n",
       "      <th>Tryglicerides</th>\n",
       "      <th>Platelets</th>\n",
       "      <th>Prothrombin</th>\n",
       "      <th>Stage</th>\n",
       "    </tr>\n",
       "  </thead>\n",
       "  <tbody>\n",
       "    <tr>\n",
       "      <th>count</th>\n",
       "      <td>25000.000000</td>\n",
       "      <td>25000.000000</td>\n",
       "      <td>25000.000000</td>\n",
       "      <td>25000.000000</td>\n",
       "      <td>25000.000000</td>\n",
       "      <td>25000.000000</td>\n",
       "      <td>25000.000000</td>\n",
       "      <td>25000.000000</td>\n",
       "      <td>25000.000000</td>\n",
       "      <td>25000.000000</td>\n",
       "      <td>25000.000000</td>\n",
       "      <td>25000.00000</td>\n",
       "    </tr>\n",
       "    <tr>\n",
       "      <th>mean</th>\n",
       "      <td>1887.117040</td>\n",
       "      <td>18495.877080</td>\n",
       "      <td>3.402644</td>\n",
       "      <td>372.331471</td>\n",
       "      <td>3.486578</td>\n",
       "      <td>100.184663</td>\n",
       "      <td>1995.675597</td>\n",
       "      <td>123.166345</td>\n",
       "      <td>123.822548</td>\n",
       "      <td>256.007337</td>\n",
       "      <td>10.734549</td>\n",
       "      <td>2.00116</td>\n",
       "    </tr>\n",
       "    <tr>\n",
       "      <th>std</th>\n",
       "      <td>1091.690918</td>\n",
       "      <td>3737.596616</td>\n",
       "      <td>4.707491</td>\n",
       "      <td>193.668452</td>\n",
       "      <td>0.380488</td>\n",
       "      <td>73.184840</td>\n",
       "      <td>1798.885660</td>\n",
       "      <td>47.747616</td>\n",
       "      <td>52.786350</td>\n",
       "      <td>98.679006</td>\n",
       "      <td>0.904436</td>\n",
       "      <td>0.81387</td>\n",
       "    </tr>\n",
       "    <tr>\n",
       "      <th>min</th>\n",
       "      <td>41.000000</td>\n",
       "      <td>9598.000000</td>\n",
       "      <td>0.300000</td>\n",
       "      <td>120.000000</td>\n",
       "      <td>1.960000</td>\n",
       "      <td>4.000000</td>\n",
       "      <td>289.000000</td>\n",
       "      <td>26.350000</td>\n",
       "      <td>33.000000</td>\n",
       "      <td>62.000000</td>\n",
       "      <td>9.000000</td>\n",
       "      <td>1.00000</td>\n",
       "    </tr>\n",
       "    <tr>\n",
       "      <th>25%</th>\n",
       "      <td>1080.000000</td>\n",
       "      <td>15694.000000</td>\n",
       "      <td>0.800000</td>\n",
       "      <td>275.000000</td>\n",
       "      <td>3.290000</td>\n",
       "      <td>52.000000</td>\n",
       "      <td>1032.000000</td>\n",
       "      <td>92.000000</td>\n",
       "      <td>92.000000</td>\n",
       "      <td>189.000000</td>\n",
       "      <td>10.000000</td>\n",
       "      <td>1.00000</td>\n",
       "    </tr>\n",
       "    <tr>\n",
       "      <th>50%</th>\n",
       "      <td>1680.000000</td>\n",
       "      <td>18499.000000</td>\n",
       "      <td>1.300000</td>\n",
       "      <td>369.510563</td>\n",
       "      <td>3.510000</td>\n",
       "      <td>97.648387</td>\n",
       "      <td>1828.000000</td>\n",
       "      <td>122.556346</td>\n",
       "      <td>124.702128</td>\n",
       "      <td>251.000000</td>\n",
       "      <td>10.600000</td>\n",
       "      <td>2.00000</td>\n",
       "    </tr>\n",
       "    <tr>\n",
       "      <th>75%</th>\n",
       "      <td>2576.000000</td>\n",
       "      <td>20955.000000</td>\n",
       "      <td>3.400000</td>\n",
       "      <td>369.510563</td>\n",
       "      <td>3.750000</td>\n",
       "      <td>107.000000</td>\n",
       "      <td>1982.655769</td>\n",
       "      <td>134.850000</td>\n",
       "      <td>127.000000</td>\n",
       "      <td>311.000000</td>\n",
       "      <td>11.100000</td>\n",
       "      <td>3.00000</td>\n",
       "    </tr>\n",
       "    <tr>\n",
       "      <th>max</th>\n",
       "      <td>4795.000000</td>\n",
       "      <td>28650.000000</td>\n",
       "      <td>28.000000</td>\n",
       "      <td>1775.000000</td>\n",
       "      <td>4.640000</td>\n",
       "      <td>588.000000</td>\n",
       "      <td>13862.400000</td>\n",
       "      <td>457.250000</td>\n",
       "      <td>598.000000</td>\n",
       "      <td>721.000000</td>\n",
       "      <td>18.000000</td>\n",
       "      <td>3.00000</td>\n",
       "    </tr>\n",
       "  </tbody>\n",
       "</table>\n",
       "</div>"
      ],
      "text/plain": [
       "             N_Days           Age     Bilirubin   Cholesterol       Albumin  \\\n",
       "count  25000.000000  25000.000000  25000.000000  25000.000000  25000.000000   \n",
       "mean    1887.117040  18495.877080      3.402644    372.331471      3.486578   \n",
       "std     1091.690918   3737.596616      4.707491    193.668452      0.380488   \n",
       "min       41.000000   9598.000000      0.300000    120.000000      1.960000   \n",
       "25%     1080.000000  15694.000000      0.800000    275.000000      3.290000   \n",
       "50%     1680.000000  18499.000000      1.300000    369.510563      3.510000   \n",
       "75%     2576.000000  20955.000000      3.400000    369.510563      3.750000   \n",
       "max     4795.000000  28650.000000     28.000000   1775.000000      4.640000   \n",
       "\n",
       "             Copper      Alk_Phos          SGOT  Tryglicerides     Platelets  \\\n",
       "count  25000.000000  25000.000000  25000.000000   25000.000000  25000.000000   \n",
       "mean     100.184663   1995.675597    123.166345     123.822548    256.007337   \n",
       "std       73.184840   1798.885660     47.747616      52.786350     98.679006   \n",
       "min        4.000000    289.000000     26.350000      33.000000     62.000000   \n",
       "25%       52.000000   1032.000000     92.000000      92.000000    189.000000   \n",
       "50%       97.648387   1828.000000    122.556346     124.702128    251.000000   \n",
       "75%      107.000000   1982.655769    134.850000     127.000000    311.000000   \n",
       "max      588.000000  13862.400000    457.250000     598.000000    721.000000   \n",
       "\n",
       "        Prothrombin        Stage  \n",
       "count  25000.000000  25000.00000  \n",
       "mean      10.734549      2.00116  \n",
       "std        0.904436      0.81387  \n",
       "min        9.000000      1.00000  \n",
       "25%       10.000000      1.00000  \n",
       "50%       10.600000      2.00000  \n",
       "75%       11.100000      3.00000  \n",
       "max       18.000000      3.00000  "
      ]
     },
     "execution_count": 100,
     "metadata": {},
     "output_type": "execute_result"
    }
   ],
   "source": [
    "df.describe() # Checking for statistical value"
   ]
  },
  {
   "cell_type": "markdown",
   "id": "34dcc6e7",
   "metadata": {},
   "source": [
    "#### To find outliers"
   ]
  },
  {
   "cell_type": "code",
   "execution_count": 101,
   "id": "e6b02c1d",
   "metadata": {},
   "outputs": [
    {
     "data": {
      "image/png": "[encoded data removed]",
      "text/plain": [
       "<Figure size 3000x1500 with 1 Axes>"
      ]
     },
     "metadata": {},
     "output_type": "display_data"
    }
   ],
   "source": [
    "plt.figure(figsize=(30,15))\n",
    "df.boxplot()\n",
    "plt.xticks(rotation=50);"
   ]
  },
  {
   "cell_type": "code",
   "execution_count": 102,
   "id": "8cc22e4a",
   "metadata": {},
   "outputs": [
    {
     "data": {
      "text/plain": [
       "<Axes: >"
      ]
     },
     "execution_count": 102,
     "metadata": {},
     "output_type": "execute_result"
    },
    {
     "data": {
      "image/png": "[encoded data removed]",
      "text/plain": [
       "<Figure size 640x480 with 1 Axes>"
      ]
     },
     "metadata": {},
     "output_type": "display_data"
    }
   ],
   "source": [
    "# Finding outliers by boxplot\n",
    "sns.boxplot(df[\"Cholesterol\"]) "
   ]
  },
  {
   "cell_type": "code",
   "execution_count": 103,
   "id": "083b3732",
   "metadata": {},
   "outputs": [],
   "source": [
    "df2 = df.drop(\"Stage\",axis=1) # Drop target column for Finding outliers function\n",
    "                              # Also these data frame Carrying outliers"
   ]
  },
  {
   "cell_type": "code",
   "execution_count": 104,
   "id": "cfce200e",
   "metadata": {},
   "outputs": [
    {
     "name": "stdout",
     "output_type": "stream",
     "text": [
      "Age                 0\n",
      "Albumin           745\n",
      "Alk_Phos         2177\n",
      "Ascites             0\n",
      "Bilirubin        3274\n",
      "Cholesterol      2252\n",
      "Copper           2335\n",
      "Drug                0\n",
      "Edema               0\n",
      "Hepatomegaly        0\n",
      "N_Days              0\n",
      "Platelets         368\n",
      "Prothrombin       772\n",
      "SGOT             1743\n",
      "Sex                 0\n",
      "Spiders             0\n",
      "Status              0\n",
      "Tryglicerides    2399\n",
      "dtype: int64\n"
     ]
    }
   ],
   "source": [
    "# Finding outliers by function\n",
    "\n",
    "Q1 = df2.quantile(0.25)\n",
    "Q3 = df2.quantile(0.75) \n",
    "IQR = Q3 - Q1\n",
    "\n",
    "lower_tail = Q1 - 1.5 * IQR\n",
    "upper_tail = Q3 + 1.5 * IQR\n",
    "\n",
    "ouliers = (df2< lower_tail) | (df2> upper_tail)\n",
    "ouliers_count = ouliers.sum()\n",
    "print(ouliers_count)"
   ]
  },
  {
   "cell_type": "code",
   "execution_count": 105,
   "id": "b6424fd4",
   "metadata": {},
   "outputs": [
    {
     "data": {
      "text/plain": [
       "array([ 57.       ,  75.       ,  80.       ,  58.       , 109.       ,\n",
       "       178.       , 195.       , 143.       , 124.7021277,  55.       ,\n",
       "       177.       , 151.       ,  52.       , 155.       , 137.       ,\n",
       "       101.       , 113.       , 118.       , 116.       ,  88.       ,\n",
       "       209.       ,  49.       , 104.       ,  56.       ,  99.       ,\n",
       "        59.       , 184.       , 154.       ,  90.       , 135.       ,\n",
       "        87.       ,  44.       , 108.       , 123.       ,  63.       ,\n",
       "        85.       ,  70.       ,  72.       , 318.       , 164.       ,\n",
       "        73.       , 142.       , 106.       , 242.       , 114.       ,\n",
       "        71.       ,  84.       , 309.       ,  86.       , 133.       ,\n",
       "        77.       , 180.       ,  78.       ,  68.       , 218.       ,\n",
       "        82.       , 139.       , 130.       , 145.       , 168.       ,\n",
       "        91.       ,  74.       ,  53.       , 598.       , 169.       ,\n",
       "       191.       ,  81.       , 165.       , 146.       , 128.       ,\n",
       "        89.       , 102.       , 322.       , 140.       ,  98.       ,\n",
       "       126.       , 131.       , 127.       ,  83.       ,  96.       ,\n",
       "       152.       , 171.       ,  94.       ,  93.       , 111.       ,\n",
       "       157.       , 166.       , 107.       , 175.       , 185.       ,\n",
       "       224.       ,  95.       ,  46.       , 194.       , 100.       ,\n",
       "        76.       , 205.       , 119.       , 105.       , 158.       ,\n",
       "       232.       ,  64.       , 103.       , 149.       ,  97.       ,\n",
       "       210.       , 213.       , 124.       , 121.       , 172.       ,\n",
       "       156.       ,  50.       ,  62.       , 112.       , 174.       ,\n",
       "       120.       , 117.       , 153.       ,  92.       ,  34.       ,\n",
       "        79.       , 125.       , 219.       , 432.       , 319.       ,\n",
       "       243.       , 188.       ,  69.       , 200.       , 231.       ,\n",
       "       122.       , 272.       , 229.       , 280.       , 230.       ,\n",
       "        66.       , 144.       , 179.       , 189.       , 382.       ,\n",
       "       134.       , 193.       ,  67.       ,  33.       , 110.       ,\n",
       "       260.       , 206.       , 214.       ,  42.       , 199.       ,\n",
       "       244.       , 163.       , 249.       , 560.       , 221.       ,\n",
       "       220.       , 233.       ])"
      ]
     },
     "execution_count": 105,
     "metadata": {},
     "output_type": "execute_result"
    }
   ],
   "source": [
    "df2[\"Tryglicerides\"].unique()"
   ]
  },
  {
   "cell_type": "markdown",
   "id": "9cb2d271",
   "metadata": {},
   "source": [
    "#### To replace outliers"
   ]
  },
  {
   "cell_type": "code",
   "execution_count": 106,
   "id": "481cc044",
   "metadata": {},
   "outputs": [
    {
     "name": "stdout",
     "output_type": "stream",
     "text": [
      "-393.98365349999995\n",
      "3408.6394225\n",
      "-3.0999999999999996\n",
      "7.299999999999999\n",
      "133.23415489999996\n",
      "511.27640850000006\n",
      "-30.5\n",
      "189.5\n",
      "8.350000000000001\n",
      "12.75\n",
      "27.72500000000001\n",
      "199.125\n",
      "39.5\n",
      "179.5\n"
     ]
    }
   ],
   "source": [
    "def Finding_outliar1(df_tel,columns):\n",
    "    for column in columns:\n",
    "            q1 = df2[column].quantile(0.25)\n",
    "            q3 = df2[column].quantile(0.75)\n",
    "            iqr = q3 - q1\n",
    "\n",
    "            lower_tail1 = q1 - 1.5 * iqr\n",
    "            upper_tail1 = q3 + 1.5 * iqr\n",
    "            print(lower_tail1)\n",
    "            print(upper_tail1)\n",
    "            \n",
    "            df2[column] = df2[column].apply(lambda x : upper_tail1 if x > upper_tail1 else (lower_tail1 if x < lower_tail1 else x))\n",
    "columns = [\"Alk_Phos\",\"Bilirubin\",\"Cholesterol\",\"Copper\",\"Prothrombin\",\"SGOT\",\"Tryglicerides\"]\n",
    "\n",
    "Finding_outliar1(df2,columns)"
   ]
  },
  {
   "cell_type": "markdown",
   "id": "8ff373fb",
   "metadata": {},
   "source": [
    "<div style=\"color: Black; \n",
    "              display: fill;\n",
    "              text-align:center;\n",
    "              border-radius: 20px;\n",
    "              background-color: #003366;\n",
    "              box-shadow: rgba(0, 0, 0, 0.15) 0px 10px 5px, rgba(0, 0, 0, 0.12) 0px 6px 6px;\">\n",
    "    <h1 style=\"padding: 13px; \n",
    "                 color: White;\n",
    "                 font-size: 30px;\n",
    "                 font-weight: bold;\n",
    "                 font-family: Calibri;\">🔹Step 4 : Feature Engineering\n",
    "    </h1>\n",
    "</div>"
   ]
  },
  {
   "cell_type": "markdown",
   "id": "d2c79e9c",
   "metadata": {},
   "source": [
    "#### Changing data types of objects column"
   ]
  },
  {
   "cell_type": "code",
   "execution_count": 107,
   "id": "64d93f01",
   "metadata": {},
   "outputs": [
    {
     "name": "stdout",
     "output_type": "stream",
     "text": [
      "<class 'pandas.core.frame.DataFrame'>\n",
      "RangeIndex: 25000 entries, 0 to 24999\n",
      "Data columns (total 18 columns):\n",
      " #   Column         Non-Null Count  Dtype  \n",
      "---  ------         --------------  -----  \n",
      " 0   N_Days         25000 non-null  int64  \n",
      " 1   Status         25000 non-null  object \n",
      " 2   Drug           25000 non-null  object \n",
      " 3   Age            25000 non-null  int64  \n",
      " 4   Sex            25000 non-null  object \n",
      " 5   Ascites        25000 non-null  object \n",
      " 6   Hepatomegaly   25000 non-null  object \n",
      " 7   Spiders        25000 non-null  object \n",
      " 8   Edema          25000 non-null  object \n",
      " 9   Bilirubin      25000 non-null  float64\n",
      " 10  Cholesterol    25000 non-null  float64\n",
      " 11  Albumin        25000 non-null  float64\n",
      " 12  Copper         25000 non-null  float64\n",
      " 13  Alk_Phos       25000 non-null  float64\n",
      " 14  SGOT           25000 non-null  float64\n",
      " 15  Tryglicerides  25000 non-null  float64\n",
      " 16  Platelets      25000 non-null  float64\n",
      " 17  Prothrombin    25000 non-null  float64\n",
      "dtypes: float64(9), int64(2), object(7)\n",
      "memory usage: 3.4+ MB\n"
     ]
    }
   ],
   "source": [
    "df2.info()"
   ]
  },
  {
   "cell_type": "code",
   "execution_count": 108,
   "id": "fdcbe288",
   "metadata": {},
   "outputs": [
    {
     "data": {
      "text/plain": [
       "array(['C', 'D', 'CL'], dtype=object)"
      ]
     },
     "execution_count": 108,
     "metadata": {},
     "output_type": "execute_result"
    }
   ],
   "source": [
    "df2[\"Status\"].unique() "
   ]
  },
  {
   "cell_type": "code",
   "execution_count": 109,
   "id": "43ec26b0",
   "metadata": {},
   "outputs": [],
   "source": [
    "df2[\"Status\"]=df2[\"Status\"].replace({\"C\":1, \"D\":2,\"CL\":3})  # labelEncoding on Status"
   ]
  },
  {
   "cell_type": "code",
   "execution_count": 110,
   "id": "19a9d66e",
   "metadata": {},
   "outputs": [
    {
     "data": {
      "text/plain": [
       "array(['Placebo', 'D-penicillamine'], dtype=object)"
      ]
     },
     "execution_count": 110,
     "metadata": {},
     "output_type": "execute_result"
    }
   ],
   "source": [
    "df2[\"Drug\"].unique() "
   ]
  },
  {
   "cell_type": "code",
   "execution_count": 111,
   "id": "88fe9e32",
   "metadata": {},
   "outputs": [],
   "source": [
    "df2[\"Drug\"]=df2[\"Drug\"].replace({\"Placebo\":1, \"D-penicillamine\":2})  # labelEncoding on Drug"
   ]
  },
  {
   "cell_type": "code",
   "execution_count": 112,
   "id": "300a61da",
   "metadata": {},
   "outputs": [
    {
     "data": {
      "text/plain": [
       "array(['F', 'M'], dtype=object)"
      ]
     },
     "execution_count": 112,
     "metadata": {},
     "output_type": "execute_result"
    }
   ],
   "source": [
    "df2[\"Sex\"].unique() "
   ]
  },
  {
   "cell_type": "code",
   "execution_count": 113,
   "id": "78c64c37",
   "metadata": {},
   "outputs": [],
   "source": [
    "df2[\"Sex\"]=df2[\"Sex\"].replace({\"F\":1, \"M\":2})  # labelEncoding on Sex"
   ]
  },
  {
   "cell_type": "code",
   "execution_count": 114,
   "id": "f3c4ea10",
   "metadata": {},
   "outputs": [
    {
     "data": {
      "text/plain": [
       "array(['N', 'Y'], dtype=object)"
      ]
     },
     "execution_count": 114,
     "metadata": {},
     "output_type": "execute_result"
    }
   ],
   "source": [
    "df2[\"Ascites\"].unique() "
   ]
  },
  {
   "cell_type": "code",
   "execution_count": 115,
   "id": "ba5c1507",
   "metadata": {},
   "outputs": [],
   "source": [
    "df2[\"Ascites\"]=df2[\"Ascites\"].replace({\"N\":1, \"Y\":2})  # labelEncoding on Ascites"
   ]
  },
  {
   "cell_type": "code",
   "execution_count": 116,
   "id": "2f0919ff",
   "metadata": {},
   "outputs": [
    {
     "data": {
      "text/plain": [
       "array(['Y', 'N'], dtype=object)"
      ]
     },
     "execution_count": 116,
     "metadata": {},
     "output_type": "execute_result"
    }
   ],
   "source": [
    "df2[\"Hepatomegaly\"].unique() "
   ]
  },
  {
   "cell_type": "code",
   "execution_count": 117,
   "id": "2fea0a5e",
   "metadata": {},
   "outputs": [],
   "source": [
    "df2[\"Hepatomegaly\"]=df2[\"Hepatomegaly\"].replace({\"Y\":1, \"N\":2})  # labelEncoding on Hepatomegaly"
   ]
  },
  {
   "cell_type": "code",
   "execution_count": 118,
   "id": "a05861f8",
   "metadata": {},
   "outputs": [
    {
     "data": {
      "text/plain": [
       "array(['N', 'Y'], dtype=object)"
      ]
     },
     "execution_count": 118,
     "metadata": {},
     "output_type": "execute_result"
    }
   ],
   "source": [
    "df2[\"Spiders\"].unique() "
   ]
  },
  {
   "cell_type": "code",
   "execution_count": 119,
   "id": "dd0a309a",
   "metadata": {},
   "outputs": [],
   "source": [
    "df2[\"Spiders\"]=df2[\"Spiders\"].replace({\"N\":1, \"Y\":2})  # labelEncoding on Spiders"
   ]
  },
  {
   "cell_type": "code",
   "execution_count": 120,
   "id": "b5e8dc30",
   "metadata": {},
   "outputs": [
    {
     "data": {
      "text/plain": [
       "array(['N', 'Y', 'S'], dtype=object)"
      ]
     },
     "execution_count": 120,
     "metadata": {},
     "output_type": "execute_result"
    }
   ],
   "source": [
    "df2[\"Edema\"].unique() "
   ]
  },
  {
   "cell_type": "code",
   "execution_count": 121,
   "id": "2c831e7b",
   "metadata": {},
   "outputs": [],
   "source": [
    "df2[\"Edema\"]=df2[\"Edema\"].replace({\"N\":1, \"Y\":2,\"S\":3})  # labelEncoding on Edema"
   ]
  },
  {
   "cell_type": "code",
   "execution_count": 122,
   "id": "f79b98ce",
   "metadata": {},
   "outputs": [
    {
     "data": {
      "text/plain": [
       "<Axes: xlabel='Status', ylabel='count'>"
      ]
     },
     "execution_count": 122,
     "metadata": {},
     "output_type": "execute_result"
    },
    {
     "data": {
      "image/png": "[encoded data removed]",
      "text/plain": [
       "<Figure size 640x480 with 1 Axes>"
      ]
     },
     "metadata": {},
     "output_type": "display_data"
    }
   ],
   "source": [
    "sns.countplot(x=df[\"Status\"])  # Data in target column is imbalance"
   ]
  },
  {
   "cell_type": "markdown",
   "id": "9f5199bf",
   "metadata": {},
   "source": [
    "<div style=\"color: Black; \n",
    "              display: fill;\n",
    "              text-align:center;\n",
    "              border-radius: 20px;\n",
    "              background-color: #003366;\n",
    "              box-shadow: rgba(0, 0, 0, 0.15) 0px 10px 5px, rgba(0, 0, 0, 0.12) 0px 6px 6px;\">\n",
    "    <h1 style=\"padding: 13px; \n",
    "                 color: White;\n",
    "                 font-size: 30px;\n",
    "                 font-weight: bold;\n",
    "                 font-family: Calibri;\">🔹Step 5 : Feature Selection\n",
    "    </h1>\n",
    "</div>"
   ]
  },
  {
   "cell_type": "markdown",
   "id": "3ca4ea9e",
   "metadata": {},
   "source": [
    "#### Assumption 1.Linearity "
   ]
  },
  {
   "cell_type": "code",
   "execution_count": 123,
   "id": "4410ded0",
   "metadata": {},
   "outputs": [
    {
     "data": {
      "text/html": [
       "<div>\n",
       "<style scoped>\n",
       "    .dataframe tbody tr th:only-of-type {\n",
       "        vertical-align: middle;\n",
       "    }\n",
       "\n",
       "    .dataframe tbody tr th {\n",
       "        vertical-align: top;\n",
       "    }\n",
       "\n",
       "    .dataframe thead th {\n",
       "        text-align: right;\n",
       "    }\n",
       "</style>\n",
       "<table border=\"1\" class=\"dataframe\">\n",
       "  <thead>\n",
       "    <tr style=\"text-align: right;\">\n",
       "      <th></th>\n",
       "      <th>N_Days</th>\n",
       "      <th>Status</th>\n",
       "      <th>Drug</th>\n",
       "      <th>Age</th>\n",
       "      <th>Sex</th>\n",
       "      <th>Ascites</th>\n",
       "      <th>Hepatomegaly</th>\n",
       "      <th>Spiders</th>\n",
       "      <th>Edema</th>\n",
       "      <th>Bilirubin</th>\n",
       "      <th>Cholesterol</th>\n",
       "      <th>Albumin</th>\n",
       "      <th>Copper</th>\n",
       "      <th>Alk_Phos</th>\n",
       "      <th>SGOT</th>\n",
       "      <th>Tryglicerides</th>\n",
       "      <th>Platelets</th>\n",
       "      <th>Prothrombin</th>\n",
       "    </tr>\n",
       "  </thead>\n",
       "  <tbody>\n",
       "    <tr>\n",
       "      <th>N_Days</th>\n",
       "      <td>1.000000</td>\n",
       "      <td>-0.352685</td>\n",
       "      <td>0.090464</td>\n",
       "      <td>-0.060569</td>\n",
       "      <td>0.002075</td>\n",
       "      <td>-0.150437</td>\n",
       "      <td>0.200410</td>\n",
       "      <td>-0.190765</td>\n",
       "      <td>-0.266558</td>\n",
       "      <td>-0.433251</td>\n",
       "      <td>-0.121015</td>\n",
       "      <td>0.368851</td>\n",
       "      <td>-0.308669</td>\n",
       "      <td>-0.018607</td>\n",
       "      <td>-0.245062</td>\n",
       "      <td>-0.188653</td>\n",
       "      <td>0.115908</td>\n",
       "      <td>-0.174475</td>\n",
       "    </tr>\n",
       "    <tr>\n",
       "      <th>Status</th>\n",
       "      <td>-0.352685</td>\n",
       "      <td>1.000000</td>\n",
       "      <td>0.055328</td>\n",
       "      <td>0.001644</td>\n",
       "      <td>0.049126</td>\n",
       "      <td>0.017149</td>\n",
       "      <td>-0.273533</td>\n",
       "      <td>-0.013526</td>\n",
       "      <td>0.221948</td>\n",
       "      <td>0.395715</td>\n",
       "      <td>0.134789</td>\n",
       "      <td>-0.173545</td>\n",
       "      <td>0.310409</td>\n",
       "      <td>0.090764</td>\n",
       "      <td>0.241649</td>\n",
       "      <td>0.142632</td>\n",
       "      <td>-0.057257</td>\n",
       "      <td>0.221318</td>\n",
       "    </tr>\n",
       "    <tr>\n",
       "      <th>Drug</th>\n",
       "      <td>0.090464</td>\n",
       "      <td>0.055328</td>\n",
       "      <td>1.000000</td>\n",
       "      <td>0.005641</td>\n",
       "      <td>0.070240</td>\n",
       "      <td>-0.371468</td>\n",
       "      <td>-0.115855</td>\n",
       "      <td>-0.335426</td>\n",
       "      <td>0.003712</td>\n",
       "      <td>-0.033567</td>\n",
       "      <td>-0.018682</td>\n",
       "      <td>0.039801</td>\n",
       "      <td>-0.037035</td>\n",
       "      <td>-0.024318</td>\n",
       "      <td>-0.019952</td>\n",
       "      <td>-0.068314</td>\n",
       "      <td>0.005776</td>\n",
       "      <td>-0.012259</td>\n",
       "    </tr>\n",
       "    <tr>\n",
       "      <th>Age</th>\n",
       "      <td>-0.060569</td>\n",
       "      <td>0.001644</td>\n",
       "      <td>0.005641</td>\n",
       "      <td>1.000000</td>\n",
       "      <td>0.141418</td>\n",
       "      <td>0.196306</td>\n",
       "      <td>-0.053200</td>\n",
       "      <td>0.029368</td>\n",
       "      <td>0.105660</td>\n",
       "      <td>-0.007510</td>\n",
       "      <td>-0.008086</td>\n",
       "      <td>-0.108807</td>\n",
       "      <td>0.002799</td>\n",
       "      <td>0.012452</td>\n",
       "      <td>0.020859</td>\n",
       "      <td>0.036068</td>\n",
       "      <td>-0.123611</td>\n",
       "      <td>0.045001</td>\n",
       "    </tr>\n",
       "    <tr>\n",
       "      <th>Sex</th>\n",
       "      <td>0.002075</td>\n",
       "      <td>0.049126</td>\n",
       "      <td>0.070240</td>\n",
       "      <td>0.141418</td>\n",
       "      <td>1.000000</td>\n",
       "      <td>-0.028170</td>\n",
       "      <td>-0.059129</td>\n",
       "      <td>-0.112474</td>\n",
       "      <td>0.028238</td>\n",
       "      <td>0.032471</td>\n",
       "      <td>-0.017916</td>\n",
       "      <td>0.030589</td>\n",
       "      <td>0.035595</td>\n",
       "      <td>0.038415</td>\n",
       "      <td>0.000413</td>\n",
       "      <td>-0.003032</td>\n",
       "      <td>-0.085006</td>\n",
       "      <td>0.058329</td>\n",
       "    </tr>\n",
       "    <tr>\n",
       "      <th>Ascites</th>\n",
       "      <td>-0.150437</td>\n",
       "      <td>0.017149</td>\n",
       "      <td>-0.371468</td>\n",
       "      <td>0.196306</td>\n",
       "      <td>-0.028170</td>\n",
       "      <td>1.000000</td>\n",
       "      <td>0.300229</td>\n",
       "      <td>0.636974</td>\n",
       "      <td>0.052049</td>\n",
       "      <td>0.052408</td>\n",
       "      <td>0.071384</td>\n",
       "      <td>-0.186447</td>\n",
       "      <td>0.058670</td>\n",
       "      <td>0.058395</td>\n",
       "      <td>0.076082</td>\n",
       "      <td>0.077346</td>\n",
       "      <td>-0.187761</td>\n",
       "      <td>0.113922</td>\n",
       "    </tr>\n",
       "    <tr>\n",
       "      <th>Hepatomegaly</th>\n",
       "      <td>0.200410</td>\n",
       "      <td>-0.273533</td>\n",
       "      <td>-0.115855</td>\n",
       "      <td>-0.053200</td>\n",
       "      <td>-0.059129</td>\n",
       "      <td>0.300229</td>\n",
       "      <td>1.000000</td>\n",
       "      <td>0.130854</td>\n",
       "      <td>-0.205168</td>\n",
       "      <td>-0.283973</td>\n",
       "      <td>-0.035415</td>\n",
       "      <td>0.128430</td>\n",
       "      <td>-0.137267</td>\n",
       "      <td>-0.048302</td>\n",
       "      <td>-0.148961</td>\n",
       "      <td>-0.072496</td>\n",
       "      <td>0.124463</td>\n",
       "      <td>-0.189036</td>\n",
       "    </tr>\n",
       "    <tr>\n",
       "      <th>Spiders</th>\n",
       "      <td>-0.190765</td>\n",
       "      <td>-0.013526</td>\n",
       "      <td>-0.335426</td>\n",
       "      <td>0.029368</td>\n",
       "      <td>-0.112474</td>\n",
       "      <td>0.636974</td>\n",
       "      <td>0.130854</td>\n",
       "      <td>1.000000</td>\n",
       "      <td>0.049543</td>\n",
       "      <td>0.123416</td>\n",
       "      <td>0.049946</td>\n",
       "      <td>-0.198760</td>\n",
       "      <td>0.128603</td>\n",
       "      <td>0.083186</td>\n",
       "      <td>0.109900</td>\n",
       "      <td>0.072666</td>\n",
       "      <td>-0.170010</td>\n",
       "      <td>0.203636</td>\n",
       "    </tr>\n",
       "    <tr>\n",
       "      <th>Edema</th>\n",
       "      <td>-0.266558</td>\n",
       "      <td>0.221948</td>\n",
       "      <td>0.003712</td>\n",
       "      <td>0.105660</td>\n",
       "      <td>0.028238</td>\n",
       "      <td>0.052049</td>\n",
       "      <td>-0.205168</td>\n",
       "      <td>0.049543</td>\n",
       "      <td>1.000000</td>\n",
       "      <td>0.190220</td>\n",
       "      <td>0.031029</td>\n",
       "      <td>-0.150481</td>\n",
       "      <td>0.113933</td>\n",
       "      <td>0.060359</td>\n",
       "      <td>0.160019</td>\n",
       "      <td>0.067858</td>\n",
       "      <td>-0.087423</td>\n",
       "      <td>0.239182</td>\n",
       "    </tr>\n",
       "    <tr>\n",
       "      <th>Bilirubin</th>\n",
       "      <td>-0.433251</td>\n",
       "      <td>0.395715</td>\n",
       "      <td>-0.033567</td>\n",
       "      <td>-0.007510</td>\n",
       "      <td>0.032471</td>\n",
       "      <td>0.052408</td>\n",
       "      <td>-0.283973</td>\n",
       "      <td>0.123416</td>\n",
       "      <td>0.190220</td>\n",
       "      <td>1.000000</td>\n",
       "      <td>0.304906</td>\n",
       "      <td>-0.282197</td>\n",
       "      <td>0.494649</td>\n",
       "      <td>0.225256</td>\n",
       "      <td>0.428316</td>\n",
       "      <td>0.370809</td>\n",
       "      <td>-0.095882</td>\n",
       "      <td>0.259045</td>\n",
       "    </tr>\n",
       "    <tr>\n",
       "      <th>Cholesterol</th>\n",
       "      <td>-0.121015</td>\n",
       "      <td>0.134789</td>\n",
       "      <td>-0.018682</td>\n",
       "      <td>-0.008086</td>\n",
       "      <td>-0.017916</td>\n",
       "      <td>0.071384</td>\n",
       "      <td>-0.035415</td>\n",
       "      <td>0.049946</td>\n",
       "      <td>0.031029</td>\n",
       "      <td>0.304906</td>\n",
       "      <td>1.000000</td>\n",
       "      <td>-0.079800</td>\n",
       "      <td>0.132802</td>\n",
       "      <td>0.352080</td>\n",
       "      <td>0.334187</td>\n",
       "      <td>0.390134</td>\n",
       "      <td>0.019533</td>\n",
       "      <td>-0.027791</td>\n",
       "    </tr>\n",
       "    <tr>\n",
       "      <th>Albumin</th>\n",
       "      <td>0.368851</td>\n",
       "      <td>-0.173545</td>\n",
       "      <td>0.039801</td>\n",
       "      <td>-0.108807</td>\n",
       "      <td>0.030589</td>\n",
       "      <td>-0.186447</td>\n",
       "      <td>0.128430</td>\n",
       "      <td>-0.198760</td>\n",
       "      <td>-0.150481</td>\n",
       "      <td>-0.282197</td>\n",
       "      <td>-0.079800</td>\n",
       "      <td>1.000000</td>\n",
       "      <td>-0.219943</td>\n",
       "      <td>-0.181554</td>\n",
       "      <td>-0.164549</td>\n",
       "      <td>-0.125064</td>\n",
       "      <td>0.118662</td>\n",
       "      <td>-0.242271</td>\n",
       "    </tr>\n",
       "    <tr>\n",
       "      <th>Copper</th>\n",
       "      <td>-0.308669</td>\n",
       "      <td>0.310409</td>\n",
       "      <td>-0.037035</td>\n",
       "      <td>0.002799</td>\n",
       "      <td>0.035595</td>\n",
       "      <td>0.058670</td>\n",
       "      <td>-0.137267</td>\n",
       "      <td>0.128603</td>\n",
       "      <td>0.113933</td>\n",
       "      <td>0.494649</td>\n",
       "      <td>0.132802</td>\n",
       "      <td>-0.219943</td>\n",
       "      <td>1.000000</td>\n",
       "      <td>0.238247</td>\n",
       "      <td>0.299195</td>\n",
       "      <td>0.301830</td>\n",
       "      <td>-0.093934</td>\n",
       "      <td>0.182485</td>\n",
       "    </tr>\n",
       "    <tr>\n",
       "      <th>Alk_Phos</th>\n",
       "      <td>-0.018607</td>\n",
       "      <td>0.090764</td>\n",
       "      <td>-0.024318</td>\n",
       "      <td>0.012452</td>\n",
       "      <td>0.038415</td>\n",
       "      <td>0.058395</td>\n",
       "      <td>-0.048302</td>\n",
       "      <td>0.083186</td>\n",
       "      <td>0.060359</td>\n",
       "      <td>0.225256</td>\n",
       "      <td>0.352080</td>\n",
       "      <td>-0.181554</td>\n",
       "      <td>0.238247</td>\n",
       "      <td>1.000000</td>\n",
       "      <td>0.338856</td>\n",
       "      <td>0.262834</td>\n",
       "      <td>-0.005207</td>\n",
       "      <td>0.118493</td>\n",
       "    </tr>\n",
       "    <tr>\n",
       "      <th>SGOT</th>\n",
       "      <td>-0.245062</td>\n",
       "      <td>0.241649</td>\n",
       "      <td>-0.019952</td>\n",
       "      <td>0.020859</td>\n",
       "      <td>0.000413</td>\n",
       "      <td>0.076082</td>\n",
       "      <td>-0.148961</td>\n",
       "      <td>0.109900</td>\n",
       "      <td>0.160019</td>\n",
       "      <td>0.428316</td>\n",
       "      <td>0.334187</td>\n",
       "      <td>-0.164549</td>\n",
       "      <td>0.299195</td>\n",
       "      <td>0.338856</td>\n",
       "      <td>1.000000</td>\n",
       "      <td>0.158020</td>\n",
       "      <td>-0.102570</td>\n",
       "      <td>0.167169</td>\n",
       "    </tr>\n",
       "    <tr>\n",
       "      <th>Tryglicerides</th>\n",
       "      <td>-0.188653</td>\n",
       "      <td>0.142632</td>\n",
       "      <td>-0.068314</td>\n",
       "      <td>0.036068</td>\n",
       "      <td>-0.003032</td>\n",
       "      <td>0.077346</td>\n",
       "      <td>-0.072496</td>\n",
       "      <td>0.072666</td>\n",
       "      <td>0.067858</td>\n",
       "      <td>0.370809</td>\n",
       "      <td>0.390134</td>\n",
       "      <td>-0.125064</td>\n",
       "      <td>0.301830</td>\n",
       "      <td>0.262834</td>\n",
       "      <td>0.158020</td>\n",
       "      <td>1.000000</td>\n",
       "      <td>-0.045108</td>\n",
       "      <td>0.020223</td>\n",
       "    </tr>\n",
       "    <tr>\n",
       "      <th>Platelets</th>\n",
       "      <td>0.115908</td>\n",
       "      <td>-0.057257</td>\n",
       "      <td>0.005776</td>\n",
       "      <td>-0.123611</td>\n",
       "      <td>-0.085006</td>\n",
       "      <td>-0.187761</td>\n",
       "      <td>0.124463</td>\n",
       "      <td>-0.170010</td>\n",
       "      <td>-0.087423</td>\n",
       "      <td>-0.095882</td>\n",
       "      <td>0.019533</td>\n",
       "      <td>0.118662</td>\n",
       "      <td>-0.093934</td>\n",
       "      <td>-0.005207</td>\n",
       "      <td>-0.102570</td>\n",
       "      <td>-0.045108</td>\n",
       "      <td>1.000000</td>\n",
       "      <td>-0.179661</td>\n",
       "    </tr>\n",
       "    <tr>\n",
       "      <th>Prothrombin</th>\n",
       "      <td>-0.174475</td>\n",
       "      <td>0.221318</td>\n",
       "      <td>-0.012259</td>\n",
       "      <td>0.045001</td>\n",
       "      <td>0.058329</td>\n",
       "      <td>0.113922</td>\n",
       "      <td>-0.189036</td>\n",
       "      <td>0.203636</td>\n",
       "      <td>0.239182</td>\n",
       "      <td>0.259045</td>\n",
       "      <td>-0.027791</td>\n",
       "      <td>-0.242271</td>\n",
       "      <td>0.182485</td>\n",
       "      <td>0.118493</td>\n",
       "      <td>0.167169</td>\n",
       "      <td>0.020223</td>\n",
       "      <td>-0.179661</td>\n",
       "      <td>1.000000</td>\n",
       "    </tr>\n",
       "  </tbody>\n",
       "</table>\n",
       "</div>"
      ],
      "text/plain": [
       "                 N_Days    Status      Drug       Age       Sex   Ascites  \\\n",
       "N_Days         1.000000 -0.352685  0.090464 -0.060569  0.002075 -0.150437   \n",
       "Status        -0.352685  1.000000  0.055328  0.001644  0.049126  0.017149   \n",
       "Drug           0.090464  0.055328  1.000000  0.005641  0.070240 -0.371468   \n",
       "Age           -0.060569  0.001644  0.005641  1.000000  0.141418  0.196306   \n",
       "Sex            0.002075  0.049126  0.070240  0.141418  1.000000 -0.028170   \n",
       "Ascites       -0.150437  0.017149 -0.371468  0.196306 -0.028170  1.000000   \n",
       "Hepatomegaly   0.200410 -0.273533 -0.115855 -0.053200 -0.059129  0.300229   \n",
       "Spiders       -0.190765 -0.013526 -0.335426  0.029368 -0.112474  0.636974   \n",
       "Edema         -0.266558  0.221948  0.003712  0.105660  0.028238  0.052049   \n",
       "Bilirubin     -0.433251  0.395715 -0.033567 -0.007510  0.032471  0.052408   \n",
       "Cholesterol   -0.121015  0.134789 -0.018682 -0.008086 -0.017916  0.071384   \n",
       "Albumin        0.368851 -0.173545  0.039801 -0.108807  0.030589 -0.186447   \n",
       "Copper        -0.308669  0.310409 -0.037035  0.002799  0.035595  0.058670   \n",
       "Alk_Phos      -0.018607  0.090764 -0.024318  0.012452  0.038415  0.058395   \n",
       "SGOT          -0.245062  0.241649 -0.019952  0.020859  0.000413  0.076082   \n",
       "Tryglicerides -0.188653  0.142632 -0.068314  0.036068 -0.003032  0.077346   \n",
       "Platelets      0.115908 -0.057257  0.005776 -0.123611 -0.085006 -0.187761   \n",
       "Prothrombin   -0.174475  0.221318 -0.012259  0.045001  0.058329  0.113922   \n",
       "\n",
       "               Hepatomegaly   Spiders     Edema  Bilirubin  Cholesterol  \\\n",
       "N_Days             0.200410 -0.190765 -0.266558  -0.433251    -0.121015   \n",
       "Status            -0.273533 -0.013526  0.221948   0.395715     0.134789   \n",
       "Drug              -0.115855 -0.335426  0.003712  -0.033567    -0.018682   \n",
       "Age               -0.053200  0.029368  0.105660  -0.007510    -0.008086   \n",
       "Sex               -0.059129 -0.112474  0.028238   0.032471    -0.017916   \n",
       "Ascites            0.300229  0.636974  0.052049   0.052408     0.071384   \n",
       "Hepatomegaly       1.000000  0.130854 -0.205168  -0.283973    -0.035415   \n",
       "Spiders            0.130854  1.000000  0.049543   0.123416     0.049946   \n",
       "Edema             -0.205168  0.049543  1.000000   0.190220     0.031029   \n",
       "Bilirubin         -0.283973  0.123416  0.190220   1.000000     0.304906   \n",
       "Cholesterol       -0.035415  0.049946  0.031029   0.304906     1.000000   \n",
       "Albumin            0.128430 -0.198760 -0.150481  -0.282197    -0.079800   \n",
       "Copper            -0.137267  0.128603  0.113933   0.494649     0.132802   \n",
       "Alk_Phos          -0.048302  0.083186  0.060359   0.225256     0.352080   \n",
       "SGOT              -0.148961  0.109900  0.160019   0.428316     0.334187   \n",
       "Tryglicerides     -0.072496  0.072666  0.067858   0.370809     0.390134   \n",
       "Platelets          0.124463 -0.170010 -0.087423  -0.095882     0.019533   \n",
       "Prothrombin       -0.189036  0.203636  0.239182   0.259045    -0.027791   \n",
       "\n",
       "                Albumin    Copper  Alk_Phos      SGOT  Tryglicerides  \\\n",
       "N_Days         0.368851 -0.308669 -0.018607 -0.245062      -0.188653   \n",
       "Status        -0.173545  0.310409  0.090764  0.241649       0.142632   \n",
       "Drug           0.039801 -0.037035 -0.024318 -0.019952      -0.068314   \n",
       "Age           -0.108807  0.002799  0.012452  0.020859       0.036068   \n",
       "Sex            0.030589  0.035595  0.038415  0.000413      -0.003032   \n",
       "Ascites       -0.186447  0.058670  0.058395  0.076082       0.077346   \n",
       "Hepatomegaly   0.128430 -0.137267 -0.048302 -0.148961      -0.072496   \n",
       "Spiders       -0.198760  0.128603  0.083186  0.109900       0.072666   \n",
       "Edema         -0.150481  0.113933  0.060359  0.160019       0.067858   \n",
       "Bilirubin     -0.282197  0.494649  0.225256  0.428316       0.370809   \n",
       "Cholesterol   -0.079800  0.132802  0.352080  0.334187       0.390134   \n",
       "Albumin        1.000000 -0.219943 -0.181554 -0.164549      -0.125064   \n",
       "Copper        -0.219943  1.000000  0.238247  0.299195       0.301830   \n",
       "Alk_Phos      -0.181554  0.238247  1.000000  0.338856       0.262834   \n",
       "SGOT          -0.164549  0.299195  0.338856  1.000000       0.158020   \n",
       "Tryglicerides -0.125064  0.301830  0.262834  0.158020       1.000000   \n",
       "Platelets      0.118662 -0.093934 -0.005207 -0.102570      -0.045108   \n",
       "Prothrombin   -0.242271  0.182485  0.118493  0.167169       0.020223   \n",
       "\n",
       "               Platelets  Prothrombin  \n",
       "N_Days          0.115908    -0.174475  \n",
       "Status         -0.057257     0.221318  \n",
       "Drug            0.005776    -0.012259  \n",
       "Age            -0.123611     0.045001  \n",
       "Sex            -0.085006     0.058329  \n",
       "Ascites        -0.187761     0.113922  \n",
       "Hepatomegaly    0.124463    -0.189036  \n",
       "Spiders        -0.170010     0.203636  \n",
       "Edema          -0.087423     0.239182  \n",
       "Bilirubin      -0.095882     0.259045  \n",
       "Cholesterol     0.019533    -0.027791  \n",
       "Albumin         0.118662    -0.242271  \n",
       "Copper         -0.093934     0.182485  \n",
       "Alk_Phos       -0.005207     0.118493  \n",
       "SGOT           -0.102570     0.167169  \n",
       "Tryglicerides  -0.045108     0.020223  \n",
       "Platelets       1.000000    -0.179661  \n",
       "Prothrombin    -0.179661     1.000000  "
      ]
     },
     "execution_count": 123,
     "metadata": {},
     "output_type": "execute_result"
    }
   ],
   "source": [
    "#pearson's coeff of correalation R = -1 to +1\n",
    "df2.corr()"
   ]
  },
  {
   "cell_type": "code",
   "execution_count": 124,
   "id": "e349019d",
   "metadata": {},
   "outputs": [
    {
     "data": {
      "text/plain": [
       "<Axes: >"
      ]
     },
     "execution_count": 124,
     "metadata": {},
     "output_type": "execute_result"
    },
    {
     "data": {
      "image/png": "[encoded data removed]",
      "text/plain": [
       "<Figure size 2000x2000 with 2 Axes>"
      ]
     },
     "metadata": {},
     "output_type": "display_data"
    }
   ],
   "source": [
    "plt.figure(figsize=(20,20))\n",
    "sns.heatmap(df2.corr(),annot= True)"
   ]
  },
  {
   "cell_type": "markdown",
   "id": "4d49cd37",
   "metadata": {},
   "source": [
    "#### Assumption 2.No multicolinearity"
   ]
  },
  {
   "cell_type": "code",
   "execution_count": 125,
   "id": "036c431d",
   "metadata": {},
   "outputs": [
    {
     "data": {
      "text/html": [
       "<div>\n",
       "<style scoped>\n",
       "    .dataframe tbody tr th:only-of-type {\n",
       "        vertical-align: middle;\n",
       "    }\n",
       "\n",
       "    .dataframe tbody tr th {\n",
       "        vertical-align: top;\n",
       "    }\n",
       "\n",
       "    .dataframe thead th {\n",
       "        text-align: right;\n",
       "    }\n",
       "</style>\n",
       "<table border=\"1\" class=\"dataframe\">\n",
       "  <thead>\n",
       "    <tr style=\"text-align: right;\">\n",
       "      <th></th>\n",
       "      <th>Columns</th>\n",
       "    </tr>\n",
       "  </thead>\n",
       "  <tbody>\n",
       "    <tr>\n",
       "      <th>0</th>\n",
       "      <td>N_Days</td>\n",
       "    </tr>\n",
       "    <tr>\n",
       "      <th>1</th>\n",
       "      <td>Status</td>\n",
       "    </tr>\n",
       "    <tr>\n",
       "      <th>2</th>\n",
       "      <td>Drug</td>\n",
       "    </tr>\n",
       "    <tr>\n",
       "      <th>3</th>\n",
       "      <td>Age</td>\n",
       "    </tr>\n",
       "    <tr>\n",
       "      <th>4</th>\n",
       "      <td>Sex</td>\n",
       "    </tr>\n",
       "    <tr>\n",
       "      <th>5</th>\n",
       "      <td>Ascites</td>\n",
       "    </tr>\n",
       "    <tr>\n",
       "      <th>6</th>\n",
       "      <td>Hepatomegaly</td>\n",
       "    </tr>\n",
       "    <tr>\n",
       "      <th>7</th>\n",
       "      <td>Spiders</td>\n",
       "    </tr>\n",
       "    <tr>\n",
       "      <th>8</th>\n",
       "      <td>Edema</td>\n",
       "    </tr>\n",
       "    <tr>\n",
       "      <th>9</th>\n",
       "      <td>Bilirubin</td>\n",
       "    </tr>\n",
       "    <tr>\n",
       "      <th>10</th>\n",
       "      <td>Cholesterol</td>\n",
       "    </tr>\n",
       "    <tr>\n",
       "      <th>11</th>\n",
       "      <td>Albumin</td>\n",
       "    </tr>\n",
       "    <tr>\n",
       "      <th>12</th>\n",
       "      <td>Copper</td>\n",
       "    </tr>\n",
       "    <tr>\n",
       "      <th>13</th>\n",
       "      <td>Alk_Phos</td>\n",
       "    </tr>\n",
       "    <tr>\n",
       "      <th>14</th>\n",
       "      <td>SGOT</td>\n",
       "    </tr>\n",
       "    <tr>\n",
       "      <th>15</th>\n",
       "      <td>Tryglicerides</td>\n",
       "    </tr>\n",
       "    <tr>\n",
       "      <th>16</th>\n",
       "      <td>Platelets</td>\n",
       "    </tr>\n",
       "    <tr>\n",
       "      <th>17</th>\n",
       "      <td>Prothrombin</td>\n",
       "    </tr>\n",
       "  </tbody>\n",
       "</table>\n",
       "</div>"
      ],
      "text/plain": [
       "          Columns\n",
       "0          N_Days\n",
       "1          Status\n",
       "2            Drug\n",
       "3             Age\n",
       "4             Sex\n",
       "5         Ascites\n",
       "6    Hepatomegaly\n",
       "7         Spiders\n",
       "8           Edema\n",
       "9       Bilirubin\n",
       "10    Cholesterol\n",
       "11        Albumin\n",
       "12         Copper\n",
       "13       Alk_Phos\n",
       "14           SGOT\n",
       "15  Tryglicerides\n",
       "16      Platelets\n",
       "17    Prothrombin"
      ]
     },
     "execution_count": 125,
     "metadata": {},
     "output_type": "execute_result"
    }
   ],
   "source": [
    "df_VIF = pd.DataFrame()\n",
    "df_VIF['Columns'] = df2.columns\n",
    "df_VIF"
   ]
  },
  {
   "cell_type": "code",
   "execution_count": 126,
   "id": "3182032f",
   "metadata": {},
   "outputs": [],
   "source": [
    "vif = []\n",
    "for i in range(df2.shape[1]):\n",
    "    vif_cal = variance_inflation_factor(df2.to_numpy(),i)\n",
    "    vif.append(vif_cal)"
   ]
  },
  {
   "cell_type": "code",
   "execution_count": 127,
   "id": "024b1ecc",
   "metadata": {},
   "outputs": [
    {
     "data": {
      "text/html": [
       "<div>\n",
       "<style scoped>\n",
       "    .dataframe tbody tr th:only-of-type {\n",
       "        vertical-align: middle;\n",
       "    }\n",
       "\n",
       "    .dataframe tbody tr th {\n",
       "        vertical-align: top;\n",
       "    }\n",
       "\n",
       "    .dataframe thead th {\n",
       "        text-align: right;\n",
       "    }\n",
       "</style>\n",
       "<table border=\"1\" class=\"dataframe\">\n",
       "  <thead>\n",
       "    <tr style=\"text-align: right;\">\n",
       "      <th></th>\n",
       "      <th>Columns</th>\n",
       "      <th>VIF</th>\n",
       "    </tr>\n",
       "  </thead>\n",
       "  <tbody>\n",
       "    <tr>\n",
       "      <th>0</th>\n",
       "      <td>N_Days</td>\n",
       "      <td>6.097044</td>\n",
       "    </tr>\n",
       "    <tr>\n",
       "      <th>1</th>\n",
       "      <td>Status</td>\n",
       "      <td>9.244100</td>\n",
       "    </tr>\n",
       "    <tr>\n",
       "      <th>2</th>\n",
       "      <td>Drug</td>\n",
       "      <td>10.603172</td>\n",
       "    </tr>\n",
       "    <tr>\n",
       "      <th>3</th>\n",
       "      <td>Age</td>\n",
       "      <td>26.872103</td>\n",
       "    </tr>\n",
       "    <tr>\n",
       "      <th>4</th>\n",
       "      <td>Sex</td>\n",
       "      <td>13.921311</td>\n",
       "    </tr>\n",
       "    <tr>\n",
       "      <th>5</th>\n",
       "      <td>Ascites</td>\n",
       "      <td>19.587556</td>\n",
       "    </tr>\n",
       "    <tr>\n",
       "      <th>6</th>\n",
       "      <td>Hepatomegaly</td>\n",
       "      <td>15.892681</td>\n",
       "    </tr>\n",
       "    <tr>\n",
       "      <th>7</th>\n",
       "      <td>Spiders</td>\n",
       "      <td>17.921811</td>\n",
       "    </tr>\n",
       "    <tr>\n",
       "      <th>8</th>\n",
       "      <td>Edema</td>\n",
       "      <td>5.194410</td>\n",
       "    </tr>\n",
       "    <tr>\n",
       "      <th>9</th>\n",
       "      <td>Bilirubin</td>\n",
       "      <td>4.190597</td>\n",
       "    </tr>\n",
       "    <tr>\n",
       "      <th>10</th>\n",
       "      <td>Cholesterol</td>\n",
       "      <td>23.626035</td>\n",
       "    </tr>\n",
       "    <tr>\n",
       "      <th>11</th>\n",
       "      <td>Albumin</td>\n",
       "      <td>75.216822</td>\n",
       "    </tr>\n",
       "    <tr>\n",
       "      <th>12</th>\n",
       "      <td>Copper</td>\n",
       "      <td>6.508986</td>\n",
       "    </tr>\n",
       "    <tr>\n",
       "      <th>13</th>\n",
       "      <td>Alk_Phos</td>\n",
       "      <td>7.370638</td>\n",
       "    </tr>\n",
       "    <tr>\n",
       "      <th>14</th>\n",
       "      <td>SGOT</td>\n",
       "      <td>14.271769</td>\n",
       "    </tr>\n",
       "    <tr>\n",
       "      <th>15</th>\n",
       "      <td>Tryglicerides</td>\n",
       "      <td>17.600970</td>\n",
       "    </tr>\n",
       "    <tr>\n",
       "      <th>16</th>\n",
       "      <td>Platelets</td>\n",
       "      <td>8.256398</td>\n",
       "    </tr>\n",
       "    <tr>\n",
       "      <th>17</th>\n",
       "      <td>Prothrombin</td>\n",
       "      <td>114.556271</td>\n",
       "    </tr>\n",
       "  </tbody>\n",
       "</table>\n",
       "</div>"
      ],
      "text/plain": [
       "          Columns         VIF\n",
       "0          N_Days    6.097044\n",
       "1          Status    9.244100\n",
       "2            Drug   10.603172\n",
       "3             Age   26.872103\n",
       "4             Sex   13.921311\n",
       "5         Ascites   19.587556\n",
       "6    Hepatomegaly   15.892681\n",
       "7         Spiders   17.921811\n",
       "8           Edema    5.194410\n",
       "9       Bilirubin    4.190597\n",
       "10    Cholesterol   23.626035\n",
       "11        Albumin   75.216822\n",
       "12         Copper    6.508986\n",
       "13       Alk_Phos    7.370638\n",
       "14           SGOT   14.271769\n",
       "15  Tryglicerides   17.600970\n",
       "16      Platelets    8.256398\n",
       "17    Prothrombin  114.556271"
      ]
     },
     "execution_count": 127,
     "metadata": {},
     "output_type": "execute_result"
    }
   ],
   "source": [
    "df_VIF[\"VIF\"]= vif\n",
    "df_VIF "
   ]
  },
  {
   "cell_type": "markdown",
   "id": "45cc90fa",
   "metadata": {},
   "source": [
    "### Function for Conclusion"
   ]
  },
  {
   "cell_type": "code",
   "execution_count": 128,
   "id": "0199cfd1",
   "metadata": {},
   "outputs": [],
   "source": [
    "result = []\n",
    "   \n",
    "def Final_result(model_name, acc_score,precision,recall):\n",
    "      if model_name not in result:\n",
    "            result.append([model_name, (acc_score*100),precision,recall])\n",
    "            final_df = pd.DataFrame(result, columns=['Model Name', 'Accuracy Score (%)','Precision', 'Recall'])\n",
    "            return final_df"
   ]
  },
  {
   "cell_type": "markdown",
   "id": "70ca8bbe",
   "metadata": {},
   "source": [
    "### train_test_split"
   ]
  },
  {
   "cell_type": "code",
   "execution_count": 129,
   "id": "6bcb387a",
   "metadata": {},
   "outputs": [],
   "source": [
    "x = df2\n",
    "y = df[\"Stage\"]"
   ]
  },
  {
   "cell_type": "code",
   "execution_count": 130,
   "id": "360bc712",
   "metadata": {},
   "outputs": [],
   "source": [
    "xtrain,xtest,ytrain,ytest=train_test_split(x,y,test_size=0.3,random_state=10,stratify=y)"
   ]
  },
  {
   "cell_type": "markdown",
   "id": "10fa82ab",
   "metadata": {},
   "source": [
    "<div style=\"color: Black; \n",
    "              display: fill;\n",
    "              text-align:center;\n",
    "              border-radius: 20px;\n",
    "              background-color: #003366;\n",
    "              box-shadow: rgba(0, 0, 0, 0.15) 0px 10px 5px, rgba(0, 0, 0, 0.12) 0px 6px 6px;\">\n",
    "    <h1 style=\"padding: 13px; \n",
    "                 color: White;\n",
    "                 font-size: 30px;\n",
    "                 font-weight: bold;\n",
    "                 font-family: Calibri;\">🔹Step 6 : Model Training\n",
    "    </h1>\n",
    "</div>"
   ]
  },
  {
   "cell_type": "markdown",
   "id": "5be2067f",
   "metadata": {},
   "source": [
    "### 1.Logistic Regression"
   ]
  },
  {
   "cell_type": "code",
   "execution_count": 131,
   "id": "9669fec4",
   "metadata": {},
   "outputs": [],
   "source": [
    "log_reg = LogisticRegression()  "
   ]
  },
  {
   "cell_type": "code",
   "execution_count": 132,
   "id": "cdf4e022",
   "metadata": {},
   "outputs": [],
   "source": [
    "log_reg_model = log_reg.fit(xtrain,ytrain)"
   ]
  },
  {
   "cell_type": "code",
   "execution_count": 133,
   "id": "b5ab321a",
   "metadata": {},
   "outputs": [
    {
     "data": {
      "text/plain": [
       "array([2, 2, 2, ..., 3, 3, 2], dtype=int64)"
      ]
     },
     "execution_count": 133,
     "metadata": {},
     "output_type": "execute_result"
    }
   ],
   "source": [
    "ytrain_pre_log = log_reg_model.predict(xtrain)\n",
    "ytrain_pre_log"
   ]
  },
  {
   "cell_type": "markdown",
   "id": "3dfd60f9",
   "metadata": {},
   "source": [
    "### Model Evaluation"
   ]
  },
  {
   "cell_type": "markdown",
   "id": "665f186c",
   "metadata": {},
   "source": [
    "#### Training"
   ]
  },
  {
   "cell_type": "code",
   "execution_count": 134,
   "id": "2982d4b3",
   "metadata": {},
   "outputs": [
    {
     "name": "stdout",
     "output_type": "stream",
     "text": [
      "Accuracy : 0.49834285714285714\n",
      "[[3048 1464 1273]\n",
      " [1954 2049 1906]\n",
      " [1075 1107 3624]]\n",
      "              precision    recall  f1-score   support\n",
      "\n",
      "           1       0.50      0.53      0.51      5785\n",
      "           2       0.44      0.35      0.39      5909\n",
      "           3       0.53      0.62      0.57      5806\n",
      "\n",
      "    accuracy                           0.50     17500\n",
      "   macro avg       0.49      0.50      0.49     17500\n",
      "weighted avg       0.49      0.50      0.49     17500\n",
      "\n"
     ]
    }
   ],
   "source": [
    "accuracy_training = accuracy_score(ytrain,ytrain_pre_log)\n",
    "print(f\"Accuracy : {accuracy_training}\")\n",
    " \n",
    "Training_confusion_matrix = confusion_matrix(ytrain,ytrain_pre_log)\n",
    "print(Training_confusion_matrix)\n",
    " \n",
    "\n",
    "class_report_training = classification_report(ytrain,ytrain_pre_log)\n",
    "print(class_report_training)"
   ]
  },
  {
   "cell_type": "code",
   "execution_count": 135,
   "id": "e2649f62",
   "metadata": {},
   "outputs": [
    {
     "data": {
      "text/html": [
       "<div>\n",
       "<style scoped>\n",
       "    .dataframe tbody tr th:only-of-type {\n",
       "        vertical-align: middle;\n",
       "    }\n",
       "\n",
       "    .dataframe tbody tr th {\n",
       "        vertical-align: top;\n",
       "    }\n",
       "\n",
       "    .dataframe thead th {\n",
       "        text-align: right;\n",
       "    }\n",
       "</style>\n",
       "<table border=\"1\" class=\"dataframe\">\n",
       "  <thead>\n",
       "    <tr style=\"text-align: right;\">\n",
       "      <th></th>\n",
       "      <th>Model Name</th>\n",
       "      <th>Accuracy Score (%)</th>\n",
       "      <th>Precision</th>\n",
       "      <th>Recall</th>\n",
       "    </tr>\n",
       "  </thead>\n",
       "  <tbody>\n",
       "    <tr>\n",
       "      <th>0</th>\n",
       "      <td>Logistic Reg. Training</td>\n",
       "      <td>49.834286</td>\n",
       "      <td>0.492292</td>\n",
       "      <td>0.498343</td>\n",
       "    </tr>\n",
       "  </tbody>\n",
       "</table>\n",
       "</div>"
      ],
      "text/plain": [
       "               Model Name  Accuracy Score (%)  Precision    Recall\n",
       "0  Logistic Reg. Training           49.834286   0.492292  0.498343"
      ]
     },
     "execution_count": 135,
     "metadata": {},
     "output_type": "execute_result"
    }
   ],
   "source": [
    "from sklearn.metrics import precision_score, recall_score\n",
    "\n",
    "precision = precision_score(ytrain, ytrain_pre_log, average='weighted')\n",
    "recall = recall_score(ytrain, ytrain_pre_log, average='weighted')\n",
    "Final_result(\"Logistic Reg. Training\", accuracy_training, precision, recall)\n"
   ]
  },
  {
   "cell_type": "markdown",
   "id": "1de87356",
   "metadata": {},
   "source": [
    "#### Testing"
   ]
  },
  {
   "cell_type": "code",
   "execution_count": 136,
   "id": "445ff5b1",
   "metadata": {},
   "outputs": [],
   "source": [
    "ytest_pre_log = log_reg_model.predict(xtest)"
   ]
  },
  {
   "cell_type": "code",
   "execution_count": 137,
   "id": "499847d3",
   "metadata": {},
   "outputs": [
    {
     "name": "stdout",
     "output_type": "stream",
     "text": [
      "Accuracy : 0.5005333333333334\n",
      "[[1332  650  498]\n",
      " [ 820  831  881]\n",
      " [ 448  449 1591]]\n",
      "              precision    recall  f1-score   support\n",
      "\n",
      "           1       0.51      0.54      0.52      2480\n",
      "           2       0.43      0.33      0.37      2532\n",
      "           3       0.54      0.64      0.58      2488\n",
      "\n",
      "    accuracy                           0.50      7500\n",
      "   macro avg       0.49      0.50      0.49      7500\n",
      "weighted avg       0.49      0.50      0.49      7500\n",
      "\n"
     ]
    }
   ],
   "source": [
    "accuracy_testing = accuracy_score(ytest,ytest_pre_log)\n",
    "print(f\"Accuracy : {accuracy_testing}\")\n",
    " \n",
    "Testing_confusion_matrix = confusion_matrix(ytest,ytest_pre_log)\n",
    "print(Testing_confusion_matrix)\n",
    " \n",
    "\n",
    "class_report_testing = classification_report(ytest,ytest_pre_log)\n",
    "print(class_report_testing)"
   ]
  },
  {
   "cell_type": "code",
   "execution_count": 138,
   "id": "4904359f",
   "metadata": {},
   "outputs": [
    {
     "data": {
      "text/html": [
       "<div>\n",
       "<style scoped>\n",
       "    .dataframe tbody tr th:only-of-type {\n",
       "        vertical-align: middle;\n",
       "    }\n",
       "\n",
       "    .dataframe tbody tr th {\n",
       "        vertical-align: top;\n",
       "    }\n",
       "\n",
       "    .dataframe thead th {\n",
       "        text-align: right;\n",
       "    }\n",
       "</style>\n",
       "<table border=\"1\" class=\"dataframe\">\n",
       "  <thead>\n",
       "    <tr style=\"text-align: right;\">\n",
       "      <th></th>\n",
       "      <th>Model Name</th>\n",
       "      <th>Accuracy Score (%)</th>\n",
       "      <th>Precision</th>\n",
       "      <th>Recall</th>\n",
       "    </tr>\n",
       "  </thead>\n",
       "  <tbody>\n",
       "    <tr>\n",
       "      <th>0</th>\n",
       "      <td>Logistic Reg. Training</td>\n",
       "      <td>49.834286</td>\n",
       "      <td>0.492292</td>\n",
       "      <td>0.498343</td>\n",
       "    </tr>\n",
       "    <tr>\n",
       "      <th>1</th>\n",
       "      <td>Logistic Reg. Testing</td>\n",
       "      <td>49.834286</td>\n",
       "      <td>0.492470</td>\n",
       "      <td>0.500533</td>\n",
       "    </tr>\n",
       "  </tbody>\n",
       "</table>\n",
       "</div>"
      ],
      "text/plain": [
       "               Model Name  Accuracy Score (%)  Precision    Recall\n",
       "0  Logistic Reg. Training           49.834286   0.492292  0.498343\n",
       "1   Logistic Reg. Testing           49.834286   0.492470  0.500533"
      ]
     },
     "execution_count": 138,
     "metadata": {},
     "output_type": "execute_result"
    }
   ],
   "source": [
    "from sklearn.metrics import precision_score, recall_score\n",
    "\n",
    "precision = precision_score(ytest, ytest_pre_log, average='weighted')\n",
    "recall = recall_score(ytest, ytest_pre_log, average='weighted')\n",
    "Final_result(\"Logistic Reg. Testing\", accuracy_training, precision, recall)"
   ]
  },
  {
   "cell_type": "markdown",
   "id": "9b475d5c",
   "metadata": {},
   "source": [
    "### 3.Random Forest  (Begging)\n",
    " "
   ]
  },
  {
   "cell_type": "code",
   "execution_count": 139,
   "id": "fd6e4cc3",
   "metadata": {},
   "outputs": [
    {
     "data": {
      "text/plain": [
       "0        1\n",
       "1        2\n",
       "2        2\n",
       "3        2\n",
       "4        1\n",
       "        ..\n",
       "24995    2\n",
       "24996    2\n",
       "24997    3\n",
       "24998    2\n",
       "24999    2\n",
       "Name: Stage, Length: 25000, dtype: int64"
      ]
     },
     "execution_count": 139,
     "metadata": {},
     "output_type": "execute_result"
    }
   ],
   "source": [
    "x1 = df2\n",
    "y1 = df[\"Stage\"]\n",
    "y1"
   ]
  },
  {
   "cell_type": "markdown",
   "id": "c1f4e0e3",
   "metadata": {},
   "source": [
    "####   train_test_split"
   ]
  },
  {
   "cell_type": "code",
   "execution_count": 140,
   "id": "cb04777c",
   "metadata": {},
   "outputs": [],
   "source": [
    "x1train,x1test,y1train,y1test=train_test_split(x1,y1,test_size=0.3,random_state=10,stratify=y)"
   ]
  },
  {
   "cell_type": "markdown",
   "id": "4fd30db2",
   "metadata": {},
   "source": [
    "### Model training"
   ]
  },
  {
   "cell_type": "code",
   "execution_count": 141,
   "id": "0c2a60cd",
   "metadata": {},
   "outputs": [
    {
     "data": {
      "text/html": [
       "<style>#sk-container-id-7 {color: black;background-color: white;}#sk-container-id-7 pre{padding: 0;}#sk-container-id-7 div.sk-toggleable {background-color: white;}#sk-container-id-7 label.sk-toggleable__label {cursor: pointer;display: block;width: 100%;margin-bottom: 0;padding: 0.3em;box-sizing: border-box;text-align: center;}#sk-container-id-7 label.sk-toggleable__label-arrow:before {content: \"▸\";float: left;margin-right: 0.25em;color: #696969;}#sk-container-id-7 label.sk-toggleable__label-arrow:hover:before {color: black;}#sk-container-id-7 div.sk-estimator:hover label.sk-toggleable__label-arrow:before {color: black;}#sk-container-id-7 div.sk-toggleable__content {max-height: 0;max-width: 0;overflow: hidden;text-align: left;background-color: #f0f8ff;}#sk-container-id-7 div.sk-toggleable__content pre {margin: 0.2em;color: black;border-radius: 0.25em;background-color: #f0f8ff;}#sk-container-id-7 input.sk-toggleable__control:checked~div.sk-toggleable__content {max-height: 200px;max-width: 100%;overflow: auto;}#sk-container-id-7 input.sk-toggleable__control:checked~label.sk-toggleable__label-arrow:before {content: \"▾\";}#sk-container-id-7 div.sk-estimator input.sk-toggleable__control:checked~label.sk-toggleable__label {background-color: #d4ebff;}#sk-container-id-7 div.sk-label input.sk-toggleable__control:checked~label.sk-toggleable__label {background-color: #d4ebff;}#sk-container-id-7 input.sk-hidden--visually {border: 0;clip: rect(1px 1px 1px 1px);clip: rect(1px, 1px, 1px, 1px);height: 1px;margin: -1px;overflow: hidden;padding: 0;position: absolute;width: 1px;}#sk-container-id-7 div.sk-estimator {font-family: monospace;background-color: #f0f8ff;border: 1px dotted black;border-radius: 0.25em;box-sizing: border-box;margin-bottom: 0.5em;}#sk-container-id-7 div.sk-estimator:hover {background-color: #d4ebff;}#sk-container-id-7 div.sk-parallel-item::after {content: \"\";width: 100%;border-bottom: 1px solid gray;flex-grow: 1;}#sk-container-id-7 div.sk-label:hover label.sk-toggleable__label {background-color: #d4ebff;}#sk-container-id-7 div.sk-serial::before {content: \"\";position: absolute;border-left: 1px solid gray;box-sizing: border-box;top: 0;bottom: 0;left: 50%;z-index: 0;}#sk-container-id-7 div.sk-serial {display: flex;flex-direction: column;align-items: center;background-color: white;padding-right: 0.2em;padding-left: 0.2em;position: relative;}#sk-container-id-7 div.sk-item {position: relative;z-index: 1;}#sk-container-id-7 div.sk-parallel {display: flex;align-items: stretch;justify-content: center;background-color: white;position: relative;}#sk-container-id-7 div.sk-item::before, #sk-container-id-7 div.sk-parallel-item::before {content: \"\";position: absolute;border-left: 1px solid gray;box-sizing: border-box;top: 0;bottom: 0;left: 50%;z-index: -1;}#sk-container-id-7 div.sk-parallel-item {display: flex;flex-direction: column;z-index: 1;position: relative;background-color: white;}#sk-container-id-7 div.sk-parallel-item:first-child::after {align-self: flex-end;width: 50%;}#sk-container-id-7 div.sk-parallel-item:last-child::after {align-self: flex-start;width: 50%;}#sk-container-id-7 div.sk-parallel-item:only-child::after {width: 0;}#sk-container-id-7 div.sk-dashed-wrapped {border: 1px dashed gray;margin: 0 0.4em 0.5em 0.4em;box-sizing: border-box;padding-bottom: 0.4em;background-color: white;}#sk-container-id-7 div.sk-label label {font-family: monospace;font-weight: bold;display: inline-block;line-height: 1.2em;}#sk-container-id-7 div.sk-label-container {text-align: center;}#sk-container-id-7 div.sk-container {/* jupyter's `normalize.less` sets `[hidden] { display: none; }` but bootstrap.min.css set `[hidden] { display: none !important; }` so we also need the `!important` here to be able to override the default hidden behavior on the sphinx rendered scikit-learn.org. See: https://github.com/scikit-learn/scikit-learn/issues/21755 */display: inline-block !important;position: relative;}#sk-container-id-7 div.sk-text-repr-fallback {display: none;}</style><div id=\"sk-container-id-7\" class=\"sk-top-container\"><div class=\"sk-text-repr-fallback\"><pre>RandomForestClassifier()</pre><b>In a Jupyter environment, please rerun this cell to show the HTML representation or trust the notebook. <br />On GitHub, the HTML representation is unable to render, please try loading this page with nbviewer.org.</b></div><div class=\"sk-container\" hidden><div class=\"sk-item\"><div class=\"sk-estimator sk-toggleable\"><input class=\"sk-toggleable__control sk-hidden--visually\" id=\"sk-estimator-id-9\" type=\"checkbox\" checked><label for=\"sk-estimator-id-9\" class=\"sk-toggleable__label sk-toggleable__label-arrow\">RandomForestClassifier</label><div class=\"sk-toggleable__content\"><pre>RandomForestClassifier()</pre></div></div></div></div></div>"
      ],
      "text/plain": [
       "RandomForestClassifier()"
      ]
     },
     "execution_count": 141,
     "metadata": {},
     "output_type": "execute_result"
    }
   ],
   "source": [
    "Random_tel=RandomForestClassifier()\n",
    "Random_tel"
   ]
  },
  {
   "cell_type": "code",
   "execution_count": 142,
   "id": "63a940a9",
   "metadata": {},
   "outputs": [
    {
     "data": {
      "text/html": [
       "<style>#sk-container-id-8 {color: black;background-color: white;}#sk-container-id-8 pre{padding: 0;}#sk-container-id-8 div.sk-toggleable {background-color: white;}#sk-container-id-8 label.sk-toggleable__label {cursor: pointer;display: block;width: 100%;margin-bottom: 0;padding: 0.3em;box-sizing: border-box;text-align: center;}#sk-container-id-8 label.sk-toggleable__label-arrow:before {content: \"▸\";float: left;margin-right: 0.25em;color: #696969;}#sk-container-id-8 label.sk-toggleable__label-arrow:hover:before {color: black;}#sk-container-id-8 div.sk-estimator:hover label.sk-toggleable__label-arrow:before {color: black;}#sk-container-id-8 div.sk-toggleable__content {max-height: 0;max-width: 0;overflow: hidden;text-align: left;background-color: #f0f8ff;}#sk-container-id-8 div.sk-toggleable__content pre {margin: 0.2em;color: black;border-radius: 0.25em;background-color: #f0f8ff;}#sk-container-id-8 input.sk-toggleable__control:checked~div.sk-toggleable__content {max-height: 200px;max-width: 100%;overflow: auto;}#sk-container-id-8 input.sk-toggleable__control:checked~label.sk-toggleable__label-arrow:before {content: \"▾\";}#sk-container-id-8 div.sk-estimator input.sk-toggleable__control:checked~label.sk-toggleable__label {background-color: #d4ebff;}#sk-container-id-8 div.sk-label input.sk-toggleable__control:checked~label.sk-toggleable__label {background-color: #d4ebff;}#sk-container-id-8 input.sk-hidden--visually {border: 0;clip: rect(1px 1px 1px 1px);clip: rect(1px, 1px, 1px, 1px);height: 1px;margin: -1px;overflow: hidden;padding: 0;position: absolute;width: 1px;}#sk-container-id-8 div.sk-estimator {font-family: monospace;background-color: #f0f8ff;border: 1px dotted black;border-radius: 0.25em;box-sizing: border-box;margin-bottom: 0.5em;}#sk-container-id-8 div.sk-estimator:hover {background-color: #d4ebff;}#sk-container-id-8 div.sk-parallel-item::after {content: \"\";width: 100%;border-bottom: 1px solid gray;flex-grow: 1;}#sk-container-id-8 div.sk-label:hover label.sk-toggleable__label {background-color: #d4ebff;}#sk-container-id-8 div.sk-serial::before {content: \"\";position: absolute;border-left: 1px solid gray;box-sizing: border-box;top: 0;bottom: 0;left: 50%;z-index: 0;}#sk-container-id-8 div.sk-serial {display: flex;flex-direction: column;align-items: center;background-color: white;padding-right: 0.2em;padding-left: 0.2em;position: relative;}#sk-container-id-8 div.sk-item {position: relative;z-index: 1;}#sk-container-id-8 div.sk-parallel {display: flex;align-items: stretch;justify-content: center;background-color: white;position: relative;}#sk-container-id-8 div.sk-item::before, #sk-container-id-8 div.sk-parallel-item::before {content: \"\";position: absolute;border-left: 1px solid gray;box-sizing: border-box;top: 0;bottom: 0;left: 50%;z-index: -1;}#sk-container-id-8 div.sk-parallel-item {display: flex;flex-direction: column;z-index: 1;position: relative;background-color: white;}#sk-container-id-8 div.sk-parallel-item:first-child::after {align-self: flex-end;width: 50%;}#sk-container-id-8 div.sk-parallel-item:last-child::after {align-self: flex-start;width: 50%;}#sk-container-id-8 div.sk-parallel-item:only-child::after {width: 0;}#sk-container-id-8 div.sk-dashed-wrapped {border: 1px dashed gray;margin: 0 0.4em 0.5em 0.4em;box-sizing: border-box;padding-bottom: 0.4em;background-color: white;}#sk-container-id-8 div.sk-label label {font-family: monospace;font-weight: bold;display: inline-block;line-height: 1.2em;}#sk-container-id-8 div.sk-label-container {text-align: center;}#sk-container-id-8 div.sk-container {/* jupyter's `normalize.less` sets `[hidden] { display: none; }` but bootstrap.min.css set `[hidden] { display: none !important; }` so we also need the `!important` here to be able to override the default hidden behavior on the sphinx rendered scikit-learn.org. See: https://github.com/scikit-learn/scikit-learn/issues/21755 */display: inline-block !important;position: relative;}#sk-container-id-8 div.sk-text-repr-fallback {display: none;}</style><div id=\"sk-container-id-8\" class=\"sk-top-container\"><div class=\"sk-text-repr-fallback\"><pre>RandomForestClassifier()</pre><b>In a Jupyter environment, please rerun this cell to show the HTML representation or trust the notebook. <br />On GitHub, the HTML representation is unable to render, please try loading this page with nbviewer.org.</b></div><div class=\"sk-container\" hidden><div class=\"sk-item\"><div class=\"sk-estimator sk-toggleable\"><input class=\"sk-toggleable__control sk-hidden--visually\" id=\"sk-estimator-id-10\" type=\"checkbox\" checked><label for=\"sk-estimator-id-10\" class=\"sk-toggleable__label sk-toggleable__label-arrow\">RandomForestClassifier</label><div class=\"sk-toggleable__content\"><pre>RandomForestClassifier()</pre></div></div></div></div></div>"
      ],
      "text/plain": [
       "RandomForestClassifier()"
      ]
     },
     "execution_count": 142,
     "metadata": {},
     "output_type": "execute_result"
    }
   ],
   "source": [
    "Random_tel_cls = Random_tel.fit(x1train,y1train)\n",
    "Random_tel_cls"
   ]
  },
  {
   "cell_type": "markdown",
   "id": "a7feb566",
   "metadata": {},
   "source": [
    "### Model Evaluation"
   ]
  },
  {
   "cell_type": "markdown",
   "id": "5cd99d62",
   "metadata": {},
   "source": [
    "#### Training"
   ]
  },
  {
   "cell_type": "code",
   "execution_count": 143,
   "id": "5fbe5d9a",
   "metadata": {},
   "outputs": [
    {
     "data": {
      "text/plain": [
       "array([2, 3, 1, ..., 3, 3, 2], dtype=int64)"
      ]
     },
     "execution_count": 143,
     "metadata": {},
     "output_type": "execute_result"
    }
   ],
   "source": [
    "y1train_pred_forest = Random_tel_cls.predict(x1train)\n",
    "y1train_pred_forest"
   ]
  },
  {
   "cell_type": "code",
   "execution_count": 144,
   "id": "e041a6d1",
   "metadata": {},
   "outputs": [
    {
     "name": "stdout",
     "output_type": "stream",
     "text": [
      "Accuracy = 0.994\n",
      "classification_report =               precision    recall  f1-score   support\n",
      "\n",
      "           1       1.00      0.99      0.99      5785\n",
      "           2       0.99      0.99      0.99      5909\n",
      "           3       1.00      1.00      1.00      5806\n",
      "\n",
      "    accuracy                           0.99     17500\n",
      "   macro avg       0.99      0.99      0.99     17500\n",
      "weighted avg       0.99      0.99      0.99     17500\n",
      "\n",
      "confusion_matrix = [[5730   47    8]\n",
      " [  27 5871   11]\n",
      " [   1   11 5794]]\n"
     ]
    }
   ],
   "source": [
    "Random_accuracy = accuracy_score(y1train,y1train_pred_forest)\n",
    "print(f\"Accuracy = {Random_accuracy}\")\n",
    "\n",
    "Random_Training_classification = classification_report(y1train,y1train_pred_forest)\n",
    "print(f\"classification_report = {Random_Training_classification}\")\n",
    "\n",
    "Random_Training_confusion = confusion_matrix(y1train,y1train_pred_forest)\n",
    "print(f\"confusion_matrix = {Random_Training_confusion}\")"
   ]
  },
  {
   "cell_type": "code",
   "execution_count": 145,
   "id": "6cc1df8b",
   "metadata": {},
   "outputs": [
    {
     "data": {
      "text/html": [
       "<div>\n",
       "<style scoped>\n",
       "    .dataframe tbody tr th:only-of-type {\n",
       "        vertical-align: middle;\n",
       "    }\n",
       "\n",
       "    .dataframe tbody tr th {\n",
       "        vertical-align: top;\n",
       "    }\n",
       "\n",
       "    .dataframe thead th {\n",
       "        text-align: right;\n",
       "    }\n",
       "</style>\n",
       "<table border=\"1\" class=\"dataframe\">\n",
       "  <thead>\n",
       "    <tr style=\"text-align: right;\">\n",
       "      <th></th>\n",
       "      <th>Model Name</th>\n",
       "      <th>Accuracy Score (%)</th>\n",
       "      <th>Precision</th>\n",
       "      <th>Recall</th>\n",
       "    </tr>\n",
       "  </thead>\n",
       "  <tbody>\n",
       "    <tr>\n",
       "      <th>0</th>\n",
       "      <td>Logistic Reg. Training</td>\n",
       "      <td>49.834286</td>\n",
       "      <td>0.492292</td>\n",
       "      <td>0.498343</td>\n",
       "    </tr>\n",
       "    <tr>\n",
       "      <th>1</th>\n",
       "      <td>Logistic Reg. Testing</td>\n",
       "      <td>49.834286</td>\n",
       "      <td>0.492470</td>\n",
       "      <td>0.500533</td>\n",
       "    </tr>\n",
       "    <tr>\n",
       "      <th>2</th>\n",
       "      <td>Random Forest Training</td>\n",
       "      <td>99.400000</td>\n",
       "      <td>0.994005</td>\n",
       "      <td>0.994000</td>\n",
       "    </tr>\n",
       "  </tbody>\n",
       "</table>\n",
       "</div>"
      ],
      "text/plain": [
       "               Model Name  Accuracy Score (%)  Precision    Recall\n",
       "0  Logistic Reg. Training           49.834286   0.492292  0.498343\n",
       "1   Logistic Reg. Testing           49.834286   0.492470  0.500533\n",
       "2  Random Forest Training           99.400000   0.994005  0.994000"
      ]
     },
     "execution_count": 145,
     "metadata": {},
     "output_type": "execute_result"
    }
   ],
   "source": [
    "from sklearn.metrics import precision_score, recall_score\n",
    " \n",
    "precision = precision_score(y1train,y1train_pred_forest, average='weighted')\n",
    "recall = recall_score(y1train,y1train_pred_forest, average='weighted')\n",
    "Final_result(\"Random Forest Training\", Random_accuracy, precision, recall)\n"
   ]
  },
  {
   "cell_type": "markdown",
   "id": "24e7c940",
   "metadata": {},
   "source": [
    "#### Testing"
   ]
  },
  {
   "cell_type": "code",
   "execution_count": 146,
   "id": "5869120f",
   "metadata": {},
   "outputs": [],
   "source": [
    "y1test_pred_forest = Random_tel_cls.predict(x1test)"
   ]
  },
  {
   "cell_type": "code",
   "execution_count": 147,
   "id": "e64ecd3f",
   "metadata": {},
   "outputs": [
    {
     "name": "stdout",
     "output_type": "stream",
     "text": [
      "Accuracy = 0.9524\n",
      "classification_report =               precision    recall  f1-score   support\n",
      "\n",
      "           1       0.95      0.95      0.95      2480\n",
      "           2       0.94      0.94      0.94      2532\n",
      "           3       0.97      0.97      0.97      2488\n",
      "\n",
      "    accuracy                           0.95      7500\n",
      "   macro avg       0.95      0.95      0.95      7500\n",
      "weighted avg       0.95      0.95      0.95      7500\n",
      "\n",
      "confusion_matrix = [[2347  102   31]\n",
      " [ 102 2375   55]\n",
      " [  21   46 2421]]\n"
     ]
    }
   ],
   "source": [
    "Random_Testing_accuracy = accuracy_score(y1test,y1test_pred_forest)\n",
    "print(f\"Accuracy = {Random_Testing_accuracy}\")\n",
    "\n",
    "Random_Testing_classification = classification_report(y1test,y1test_pred_forest)\n",
    "print(f\"classification_report = {Random_Testing_classification}\")\n",
    "\n",
    "Random_Testing_confusion = confusion_matrix(y1test,y1test_pred_forest)\n",
    "print(f\"confusion_matrix = {Random_Testing_confusion}\")"
   ]
  },
  {
   "cell_type": "code",
   "execution_count": 148,
   "id": "02118f41",
   "metadata": {},
   "outputs": [
    {
     "data": {
      "text/html": [
       "<div>\n",
       "<style scoped>\n",
       "    .dataframe tbody tr th:only-of-type {\n",
       "        vertical-align: middle;\n",
       "    }\n",
       "\n",
       "    .dataframe tbody tr th {\n",
       "        vertical-align: top;\n",
       "    }\n",
       "\n",
       "    .dataframe thead th {\n",
       "        text-align: right;\n",
       "    }\n",
       "</style>\n",
       "<table border=\"1\" class=\"dataframe\">\n",
       "  <thead>\n",
       "    <tr style=\"text-align: right;\">\n",
       "      <th></th>\n",
       "      <th>Model Name</th>\n",
       "      <th>Accuracy Score (%)</th>\n",
       "      <th>Precision</th>\n",
       "      <th>Recall</th>\n",
       "    </tr>\n",
       "  </thead>\n",
       "  <tbody>\n",
       "    <tr>\n",
       "      <th>0</th>\n",
       "      <td>Logistic Reg. Training</td>\n",
       "      <td>49.834286</td>\n",
       "      <td>0.492292</td>\n",
       "      <td>0.498343</td>\n",
       "    </tr>\n",
       "    <tr>\n",
       "      <th>1</th>\n",
       "      <td>Logistic Reg. Testing</td>\n",
       "      <td>49.834286</td>\n",
       "      <td>0.492470</td>\n",
       "      <td>0.500533</td>\n",
       "    </tr>\n",
       "    <tr>\n",
       "      <th>2</th>\n",
       "      <td>Random Forest Training</td>\n",
       "      <td>99.400000</td>\n",
       "      <td>0.994005</td>\n",
       "      <td>0.994000</td>\n",
       "    </tr>\n",
       "    <tr>\n",
       "      <th>3</th>\n",
       "      <td>Random Forest Testing</td>\n",
       "      <td>95.240000</td>\n",
       "      <td>0.952350</td>\n",
       "      <td>0.952400</td>\n",
       "    </tr>\n",
       "  </tbody>\n",
       "</table>\n",
       "</div>"
      ],
      "text/plain": [
       "               Model Name  Accuracy Score (%)  Precision    Recall\n",
       "0  Logistic Reg. Training           49.834286   0.492292  0.498343\n",
       "1   Logistic Reg. Testing           49.834286   0.492470  0.500533\n",
       "2  Random Forest Training           99.400000   0.994005  0.994000\n",
       "3   Random Forest Testing           95.240000   0.952350  0.952400"
      ]
     },
     "execution_count": 148,
     "metadata": {},
     "output_type": "execute_result"
    }
   ],
   "source": [
    "precision = precision_score(y1test,y1test_pred_forest, average='weighted')\n",
    "recall = recall_score(y1test,y1test_pred_forest, average='weighted')\n",
    "Final_result(\"Random Forest Testing\",Random_Testing_accuracy,precision, recall)"
   ]
  },
  {
   "cell_type": "markdown",
   "id": "b4a92cb2",
   "metadata": {},
   "source": [
    "## Random Forest Hyperparameter Tunning"
   ]
  },
  {
   "cell_type": "code",
   "execution_count": 149,
   "id": "d252cb69",
   "metadata": {},
   "outputs": [],
   "source": [
    "Hyper_Random = {\n",
    "    \"n_estimators\": [100],\n",
    "    \"criterion\": ['gini', 'entropy'],\n",
    "    \"max_depth\":np.array([2,10]), \n",
    "    \"min_samples_split\":np.array([2,10]),\n",
    "    \"min_samples_leaf\": np.array([2,10]),\n",
    "    \"max_features\" : [\"auto\"]\n",
    "     }"
   ]
  },
  {
   "cell_type": "code",
   "execution_count": 150,
   "id": "03ac21bd",
   "metadata": {},
   "outputs": [],
   "source": [
    "Random_model = RandomForestClassifier(random_state=10)"
   ]
  },
  {
   "cell_type": "code",
   "execution_count": 151,
   "id": "ccb5a5a6",
   "metadata": {},
   "outputs": [],
   "source": [
    "RandomSearch =RandomizedSearchCV(Random_model,Hyper_Random,cv=6)"
   ]
  },
  {
   "cell_type": "code",
   "execution_count": 152,
   "id": "6df13c3b",
   "metadata": {},
   "outputs": [
    {
     "data": {
      "text/html": [
       "<style>#sk-container-id-9 {color: black;background-color: white;}#sk-container-id-9 pre{padding: 0;}#sk-container-id-9 div.sk-toggleable {background-color: white;}#sk-container-id-9 label.sk-toggleable__label {cursor: pointer;display: block;width: 100%;margin-bottom: 0;padding: 0.3em;box-sizing: border-box;text-align: center;}#sk-container-id-9 label.sk-toggleable__label-arrow:before {content: \"▸\";float: left;margin-right: 0.25em;color: #696969;}#sk-container-id-9 label.sk-toggleable__label-arrow:hover:before {color: black;}#sk-container-id-9 div.sk-estimator:hover label.sk-toggleable__label-arrow:before {color: black;}#sk-container-id-9 div.sk-toggleable__content {max-height: 0;max-width: 0;overflow: hidden;text-align: left;background-color: #f0f8ff;}#sk-container-id-9 div.sk-toggleable__content pre {margin: 0.2em;color: black;border-radius: 0.25em;background-color: #f0f8ff;}#sk-container-id-9 input.sk-toggleable__control:checked~div.sk-toggleable__content {max-height: 200px;max-width: 100%;overflow: auto;}#sk-container-id-9 input.sk-toggleable__control:checked~label.sk-toggleable__label-arrow:before {content: \"▾\";}#sk-container-id-9 div.sk-estimator input.sk-toggleable__control:checked~label.sk-toggleable__label {background-color: #d4ebff;}#sk-container-id-9 div.sk-label input.sk-toggleable__control:checked~label.sk-toggleable__label {background-color: #d4ebff;}#sk-container-id-9 input.sk-hidden--visually {border: 0;clip: rect(1px 1px 1px 1px);clip: rect(1px, 1px, 1px, 1px);height: 1px;margin: -1px;overflow: hidden;padding: 0;position: absolute;width: 1px;}#sk-container-id-9 div.sk-estimator {font-family: monospace;background-color: #f0f8ff;border: 1px dotted black;border-radius: 0.25em;box-sizing: border-box;margin-bottom: 0.5em;}#sk-container-id-9 div.sk-estimator:hover {background-color: #d4ebff;}#sk-container-id-9 div.sk-parallel-item::after {content: \"\";width: 100%;border-bottom: 1px solid gray;flex-grow: 1;}#sk-container-id-9 div.sk-label:hover label.sk-toggleable__label {background-color: #d4ebff;}#sk-container-id-9 div.sk-serial::before {content: \"\";position: absolute;border-left: 1px solid gray;box-sizing: border-box;top: 0;bottom: 0;left: 50%;z-index: 0;}#sk-container-id-9 div.sk-serial {display: flex;flex-direction: column;align-items: center;background-color: white;padding-right: 0.2em;padding-left: 0.2em;position: relative;}#sk-container-id-9 div.sk-item {position: relative;z-index: 1;}#sk-container-id-9 div.sk-parallel {display: flex;align-items: stretch;justify-content: center;background-color: white;position: relative;}#sk-container-id-9 div.sk-item::before, #sk-container-id-9 div.sk-parallel-item::before {content: \"\";position: absolute;border-left: 1px solid gray;box-sizing: border-box;top: 0;bottom: 0;left: 50%;z-index: -1;}#sk-container-id-9 div.sk-parallel-item {display: flex;flex-direction: column;z-index: 1;position: relative;background-color: white;}#sk-container-id-9 div.sk-parallel-item:first-child::after {align-self: flex-end;width: 50%;}#sk-container-id-9 div.sk-parallel-item:last-child::after {align-self: flex-start;width: 50%;}#sk-container-id-9 div.sk-parallel-item:only-child::after {width: 0;}#sk-container-id-9 div.sk-dashed-wrapped {border: 1px dashed gray;margin: 0 0.4em 0.5em 0.4em;box-sizing: border-box;padding-bottom: 0.4em;background-color: white;}#sk-container-id-9 div.sk-label label {font-family: monospace;font-weight: bold;display: inline-block;line-height: 1.2em;}#sk-container-id-9 div.sk-label-container {text-align: center;}#sk-container-id-9 div.sk-container {/* jupyter's `normalize.less` sets `[hidden] { display: none; }` but bootstrap.min.css set `[hidden] { display: none !important; }` so we also need the `!important` here to be able to override the default hidden behavior on the sphinx rendered scikit-learn.org. See: https://github.com/scikit-learn/scikit-learn/issues/21755 */display: inline-block !important;position: relative;}#sk-container-id-9 div.sk-text-repr-fallback {display: none;}</style><div id=\"sk-container-id-9\" class=\"sk-top-container\"><div class=\"sk-text-repr-fallback\"><pre>RandomizedSearchCV(cv=6, estimator=RandomForestClassifier(random_state=10),\n",
       "                   param_distributions={&#x27;criterion&#x27;: [&#x27;gini&#x27;, &#x27;entropy&#x27;],\n",
       "                                        &#x27;max_depth&#x27;: array([ 2, 10]),\n",
       "                                        &#x27;max_features&#x27;: [&#x27;auto&#x27;],\n",
       "                                        &#x27;min_samples_leaf&#x27;: array([ 2, 10]),\n",
       "                                        &#x27;min_samples_split&#x27;: array([ 2, 10]),\n",
       "                                        &#x27;n_estimators&#x27;: [100]})</pre><b>In a Jupyter environment, please rerun this cell to show the HTML representation or trust the notebook. <br />On GitHub, the HTML representation is unable to render, please try loading this page with nbviewer.org.</b></div><div class=\"sk-container\" hidden><div class=\"sk-item sk-dashed-wrapped\"><div class=\"sk-label-container\"><div class=\"sk-label sk-toggleable\"><input class=\"sk-toggleable__control sk-hidden--visually\" id=\"sk-estimator-id-11\" type=\"checkbox\" ><label for=\"sk-estimator-id-11\" class=\"sk-toggleable__label sk-toggleable__label-arrow\">RandomizedSearchCV</label><div class=\"sk-toggleable__content\"><pre>RandomizedSearchCV(cv=6, estimator=RandomForestClassifier(random_state=10),\n",
       "                   param_distributions={&#x27;criterion&#x27;: [&#x27;gini&#x27;, &#x27;entropy&#x27;],\n",
       "                                        &#x27;max_depth&#x27;: array([ 2, 10]),\n",
       "                                        &#x27;max_features&#x27;: [&#x27;auto&#x27;],\n",
       "                                        &#x27;min_samples_leaf&#x27;: array([ 2, 10]),\n",
       "                                        &#x27;min_samples_split&#x27;: array([ 2, 10]),\n",
       "                                        &#x27;n_estimators&#x27;: [100]})</pre></div></div></div><div class=\"sk-parallel\"><div class=\"sk-parallel-item\"><div class=\"sk-item\"><div class=\"sk-label-container\"><div class=\"sk-label sk-toggleable\"><input class=\"sk-toggleable__control sk-hidden--visually\" id=\"sk-estimator-id-12\" type=\"checkbox\" ><label for=\"sk-estimator-id-12\" class=\"sk-toggleable__label sk-toggleable__label-arrow\">estimator: RandomForestClassifier</label><div class=\"sk-toggleable__content\"><pre>RandomForestClassifier(random_state=10)</pre></div></div></div><div class=\"sk-serial\"><div class=\"sk-item\"><div class=\"sk-estimator sk-toggleable\"><input class=\"sk-toggleable__control sk-hidden--visually\" id=\"sk-estimator-id-13\" type=\"checkbox\" ><label for=\"sk-estimator-id-13\" class=\"sk-toggleable__label sk-toggleable__label-arrow\">RandomForestClassifier</label><div class=\"sk-toggleable__content\"><pre>RandomForestClassifier(random_state=10)</pre></div></div></div></div></div></div></div></div></div></div>"
      ],
      "text/plain": [
       "RandomizedSearchCV(cv=6, estimator=RandomForestClassifier(random_state=10),\n",
       "                   param_distributions={'criterion': ['gini', 'entropy'],\n",
       "                                        'max_depth': array([ 2, 10]),\n",
       "                                        'max_features': ['auto'],\n",
       "                                        'min_samples_leaf': array([ 2, 10]),\n",
       "                                        'min_samples_split': array([ 2, 10]),\n",
       "                                        'n_estimators': [100]})"
      ]
     },
     "execution_count": 152,
     "metadata": {},
     "output_type": "execute_result"
    }
   ],
   "source": [
    "RandomSearch.fit(x1train,y1train)"
   ]
  },
  {
   "cell_type": "code",
   "execution_count": 153,
   "id": "02e3bf2e",
   "metadata": {},
   "outputs": [
    {
     "data": {
      "text/html": [
       "<style>#sk-container-id-10 {color: black;background-color: white;}#sk-container-id-10 pre{padding: 0;}#sk-container-id-10 div.sk-toggleable {background-color: white;}#sk-container-id-10 label.sk-toggleable__label {cursor: pointer;display: block;width: 100%;margin-bottom: 0;padding: 0.3em;box-sizing: border-box;text-align: center;}#sk-container-id-10 label.sk-toggleable__label-arrow:before {content: \"▸\";float: left;margin-right: 0.25em;color: #696969;}#sk-container-id-10 label.sk-toggleable__label-arrow:hover:before {color: black;}#sk-container-id-10 div.sk-estimator:hover label.sk-toggleable__label-arrow:before {color: black;}#sk-container-id-10 div.sk-toggleable__content {max-height: 0;max-width: 0;overflow: hidden;text-align: left;background-color: #f0f8ff;}#sk-container-id-10 div.sk-toggleable__content pre {margin: 0.2em;color: black;border-radius: 0.25em;background-color: #f0f8ff;}#sk-container-id-10 input.sk-toggleable__control:checked~div.sk-toggleable__content {max-height: 200px;max-width: 100%;overflow: auto;}#sk-container-id-10 input.sk-toggleable__control:checked~label.sk-toggleable__label-arrow:before {content: \"▾\";}#sk-container-id-10 div.sk-estimator input.sk-toggleable__control:checked~label.sk-toggleable__label {background-color: #d4ebff;}#sk-container-id-10 div.sk-label input.sk-toggleable__control:checked~label.sk-toggleable__label {background-color: #d4ebff;}#sk-container-id-10 input.sk-hidden--visually {border: 0;clip: rect(1px 1px 1px 1px);clip: rect(1px, 1px, 1px, 1px);height: 1px;margin: -1px;overflow: hidden;padding: 0;position: absolute;width: 1px;}#sk-container-id-10 div.sk-estimator {font-family: monospace;background-color: #f0f8ff;border: 1px dotted black;border-radius: 0.25em;box-sizing: border-box;margin-bottom: 0.5em;}#sk-container-id-10 div.sk-estimator:hover {background-color: #d4ebff;}#sk-container-id-10 div.sk-parallel-item::after {content: \"\";width: 100%;border-bottom: 1px solid gray;flex-grow: 1;}#sk-container-id-10 div.sk-label:hover label.sk-toggleable__label {background-color: #d4ebff;}#sk-container-id-10 div.sk-serial::before {content: \"\";position: absolute;border-left: 1px solid gray;box-sizing: border-box;top: 0;bottom: 0;left: 50%;z-index: 0;}#sk-container-id-10 div.sk-serial {display: flex;flex-direction: column;align-items: center;background-color: white;padding-right: 0.2em;padding-left: 0.2em;position: relative;}#sk-container-id-10 div.sk-item {position: relative;z-index: 1;}#sk-container-id-10 div.sk-parallel {display: flex;align-items: stretch;justify-content: center;background-color: white;position: relative;}#sk-container-id-10 div.sk-item::before, #sk-container-id-10 div.sk-parallel-item::before {content: \"\";position: absolute;border-left: 1px solid gray;box-sizing: border-box;top: 0;bottom: 0;left: 50%;z-index: -1;}#sk-container-id-10 div.sk-parallel-item {display: flex;flex-direction: column;z-index: 1;position: relative;background-color: white;}#sk-container-id-10 div.sk-parallel-item:first-child::after {align-self: flex-end;width: 50%;}#sk-container-id-10 div.sk-parallel-item:last-child::after {align-self: flex-start;width: 50%;}#sk-container-id-10 div.sk-parallel-item:only-child::after {width: 0;}#sk-container-id-10 div.sk-dashed-wrapped {border: 1px dashed gray;margin: 0 0.4em 0.5em 0.4em;box-sizing: border-box;padding-bottom: 0.4em;background-color: white;}#sk-container-id-10 div.sk-label label {font-family: monospace;font-weight: bold;display: inline-block;line-height: 1.2em;}#sk-container-id-10 div.sk-label-container {text-align: center;}#sk-container-id-10 div.sk-container {/* jupyter's `normalize.less` sets `[hidden] { display: none; }` but bootstrap.min.css set `[hidden] { display: none !important; }` so we also need the `!important` here to be able to override the default hidden behavior on the sphinx rendered scikit-learn.org. See: https://github.com/scikit-learn/scikit-learn/issues/21755 */display: inline-block !important;position: relative;}#sk-container-id-10 div.sk-text-repr-fallback {display: none;}</style><div id=\"sk-container-id-10\" class=\"sk-top-container\"><div class=\"sk-text-repr-fallback\"><pre>RandomForestClassifier(criterion=&#x27;entropy&#x27;, max_depth=10, max_features=&#x27;auto&#x27;,\n",
       "                       min_samples_leaf=2, min_samples_split=10,\n",
       "                       random_state=10)</pre><b>In a Jupyter environment, please rerun this cell to show the HTML representation or trust the notebook. <br />On GitHub, the HTML representation is unable to render, please try loading this page with nbviewer.org.</b></div><div class=\"sk-container\" hidden><div class=\"sk-item\"><div class=\"sk-estimator sk-toggleable\"><input class=\"sk-toggleable__control sk-hidden--visually\" id=\"sk-estimator-id-14\" type=\"checkbox\" checked><label for=\"sk-estimator-id-14\" class=\"sk-toggleable__label sk-toggleable__label-arrow\">RandomForestClassifier</label><div class=\"sk-toggleable__content\"><pre>RandomForestClassifier(criterion=&#x27;entropy&#x27;, max_depth=10, max_features=&#x27;auto&#x27;,\n",
       "                       min_samples_leaf=2, min_samples_split=10,\n",
       "                       random_state=10)</pre></div></div></div></div></div>"
      ],
      "text/plain": [
       "RandomForestClassifier(criterion='entropy', max_depth=10, max_features='auto',\n",
       "                       min_samples_leaf=2, min_samples_split=10,\n",
       "                       random_state=10)"
      ]
     },
     "execution_count": 153,
     "metadata": {},
     "output_type": "execute_result"
    }
   ],
   "source": [
    "RandomSearch.best_estimator_"
   ]
  },
  {
   "cell_type": "code",
   "execution_count": 154,
   "id": "d972b827",
   "metadata": {},
   "outputs": [],
   "source": [
    "Forest_hyper_model = RandomForestClassifier(criterion='entropy', max_depth=10, max_features='auto',\n",
    "                       min_samples_leaf=2, min_samples_split=10,\n",
    "                       random_state=10)"
   ]
  },
  {
   "cell_type": "code",
   "execution_count": 155,
   "id": "8932a91d",
   "metadata": {},
   "outputs": [
    {
     "data": {
      "text/html": [
       "<style>#sk-container-id-11 {color: black;background-color: white;}#sk-container-id-11 pre{padding: 0;}#sk-container-id-11 div.sk-toggleable {background-color: white;}#sk-container-id-11 label.sk-toggleable__label {cursor: pointer;display: block;width: 100%;margin-bottom: 0;padding: 0.3em;box-sizing: border-box;text-align: center;}#sk-container-id-11 label.sk-toggleable__label-arrow:before {content: \"▸\";float: left;margin-right: 0.25em;color: #696969;}#sk-container-id-11 label.sk-toggleable__label-arrow:hover:before {color: black;}#sk-container-id-11 div.sk-estimator:hover label.sk-toggleable__label-arrow:before {color: black;}#sk-container-id-11 div.sk-toggleable__content {max-height: 0;max-width: 0;overflow: hidden;text-align: left;background-color: #f0f8ff;}#sk-container-id-11 div.sk-toggleable__content pre {margin: 0.2em;color: black;border-radius: 0.25em;background-color: #f0f8ff;}#sk-container-id-11 input.sk-toggleable__control:checked~div.sk-toggleable__content {max-height: 200px;max-width: 100%;overflow: auto;}#sk-container-id-11 input.sk-toggleable__control:checked~label.sk-toggleable__label-arrow:before {content: \"▾\";}#sk-container-id-11 div.sk-estimator input.sk-toggleable__control:checked~label.sk-toggleable__label {background-color: #d4ebff;}#sk-container-id-11 div.sk-label input.sk-toggleable__control:checked~label.sk-toggleable__label {background-color: #d4ebff;}#sk-container-id-11 input.sk-hidden--visually {border: 0;clip: rect(1px 1px 1px 1px);clip: rect(1px, 1px, 1px, 1px);height: 1px;margin: -1px;overflow: hidden;padding: 0;position: absolute;width: 1px;}#sk-container-id-11 div.sk-estimator {font-family: monospace;background-color: #f0f8ff;border: 1px dotted black;border-radius: 0.25em;box-sizing: border-box;margin-bottom: 0.5em;}#sk-container-id-11 div.sk-estimator:hover {background-color: #d4ebff;}#sk-container-id-11 div.sk-parallel-item::after {content: \"\";width: 100%;border-bottom: 1px solid gray;flex-grow: 1;}#sk-container-id-11 div.sk-label:hover label.sk-toggleable__label {background-color: #d4ebff;}#sk-container-id-11 div.sk-serial::before {content: \"\";position: absolute;border-left: 1px solid gray;box-sizing: border-box;top: 0;bottom: 0;left: 50%;z-index: 0;}#sk-container-id-11 div.sk-serial {display: flex;flex-direction: column;align-items: center;background-color: white;padding-right: 0.2em;padding-left: 0.2em;position: relative;}#sk-container-id-11 div.sk-item {position: relative;z-index: 1;}#sk-container-id-11 div.sk-parallel {display: flex;align-items: stretch;justify-content: center;background-color: white;position: relative;}#sk-container-id-11 div.sk-item::before, #sk-container-id-11 div.sk-parallel-item::before {content: \"\";position: absolute;border-left: 1px solid gray;box-sizing: border-box;top: 0;bottom: 0;left: 50%;z-index: -1;}#sk-container-id-11 div.sk-parallel-item {display: flex;flex-direction: column;z-index: 1;position: relative;background-color: white;}#sk-container-id-11 div.sk-parallel-item:first-child::after {align-self: flex-end;width: 50%;}#sk-container-id-11 div.sk-parallel-item:last-child::after {align-self: flex-start;width: 50%;}#sk-container-id-11 div.sk-parallel-item:only-child::after {width: 0;}#sk-container-id-11 div.sk-dashed-wrapped {border: 1px dashed gray;margin: 0 0.4em 0.5em 0.4em;box-sizing: border-box;padding-bottom: 0.4em;background-color: white;}#sk-container-id-11 div.sk-label label {font-family: monospace;font-weight: bold;display: inline-block;line-height: 1.2em;}#sk-container-id-11 div.sk-label-container {text-align: center;}#sk-container-id-11 div.sk-container {/* jupyter's `normalize.less` sets `[hidden] { display: none; }` but bootstrap.min.css set `[hidden] { display: none !important; }` so we also need the `!important` here to be able to override the default hidden behavior on the sphinx rendered scikit-learn.org. See: https://github.com/scikit-learn/scikit-learn/issues/21755 */display: inline-block !important;position: relative;}#sk-container-id-11 div.sk-text-repr-fallback {display: none;}</style><div id=\"sk-container-id-11\" class=\"sk-top-container\"><div class=\"sk-text-repr-fallback\"><pre>RandomForestClassifier(criterion=&#x27;entropy&#x27;, max_depth=10, max_features=&#x27;auto&#x27;,\n",
       "                       min_samples_leaf=2, min_samples_split=10,\n",
       "                       random_state=10)</pre><b>In a Jupyter environment, please rerun this cell to show the HTML representation or trust the notebook. <br />On GitHub, the HTML representation is unable to render, please try loading this page with nbviewer.org.</b></div><div class=\"sk-container\" hidden><div class=\"sk-item\"><div class=\"sk-estimator sk-toggleable\"><input class=\"sk-toggleable__control sk-hidden--visually\" id=\"sk-estimator-id-15\" type=\"checkbox\" checked><label for=\"sk-estimator-id-15\" class=\"sk-toggleable__label sk-toggleable__label-arrow\">RandomForestClassifier</label><div class=\"sk-toggleable__content\"><pre>RandomForestClassifier(criterion=&#x27;entropy&#x27;, max_depth=10, max_features=&#x27;auto&#x27;,\n",
       "                       min_samples_leaf=2, min_samples_split=10,\n",
       "                       random_state=10)</pre></div></div></div></div></div>"
      ],
      "text/plain": [
       "RandomForestClassifier(criterion='entropy', max_depth=10, max_features='auto',\n",
       "                       min_samples_leaf=2, min_samples_split=10,\n",
       "                       random_state=10)"
      ]
     },
     "execution_count": 155,
     "metadata": {},
     "output_type": "execute_result"
    }
   ],
   "source": [
    "Forest_hyper_model.fit(x1train,y1train)"
   ]
  },
  {
   "cell_type": "code",
   "execution_count": 156,
   "id": "bdc2f6b5",
   "metadata": {},
   "outputs": [
    {
     "data": {
      "text/plain": [
       "array([2, 3, 1, ..., 3, 3, 2], dtype=int64)"
      ]
     },
     "execution_count": 156,
     "metadata": {},
     "output_type": "execute_result"
    }
   ],
   "source": [
    "y1train_pred_hyper_forest = Forest_hyper_model.predict(x1train)\n",
    "y1train_pred_hyper_forest"
   ]
  },
  {
   "cell_type": "markdown",
   "id": "c0377024",
   "metadata": {},
   "source": [
    "### Model Evaluation"
   ]
  },
  {
   "cell_type": "markdown",
   "id": "e84f0360",
   "metadata": {},
   "source": [
    "#### Training"
   ]
  },
  {
   "cell_type": "code",
   "execution_count": 157,
   "id": "2d34f871",
   "metadata": {},
   "outputs": [
    {
     "name": "stdout",
     "output_type": "stream",
     "text": [
      "Accuracy = 0.9398285714285715\n",
      "classification_report =               precision    recall  f1-score   support\n",
      "\n",
      "           1       0.96      0.92      0.94      5785\n",
      "           2       0.90      0.95      0.93      5909\n",
      "           3       0.97      0.95      0.96      5806\n",
      "\n",
      "    accuracy                           0.94     17500\n",
      "   macro avg       0.94      0.94      0.94     17500\n",
      "weighted avg       0.94      0.94      0.94     17500\n",
      "\n",
      "confusion_matrix = [[5316  398   71]\n",
      " [ 164 5628  117]\n",
      " [  77  226 5503]]\n"
     ]
    }
   ],
   "source": [
    "Training_forest_accuracy = accuracy_score(y1train,y1train_pred_hyper_forest)\n",
    "print(f\"Accuracy = {Training_forest_accuracy}\")\n",
    "\n",
    "Training_classification_forest_hyper = classification_report(y1train,y1train_pred_hyper_forest)\n",
    "print(f\"classification_report = {Training_classification_forest_hyper}\")\n",
    "\n",
    "Training_confusion_forest_hyper = confusion_matrix(y1train,y1train_pred_hyper_forest)\n",
    "print(f\"confusion_matrix = {Training_confusion_forest_hyper}\")"
   ]
  },
  {
   "cell_type": "code",
   "execution_count": 158,
   "id": "62e08d85",
   "metadata": {},
   "outputs": [
    {
     "data": {
      "text/html": [
       "<div>\n",
       "<style scoped>\n",
       "    .dataframe tbody tr th:only-of-type {\n",
       "        vertical-align: middle;\n",
       "    }\n",
       "\n",
       "    .dataframe tbody tr th {\n",
       "        vertical-align: top;\n",
       "    }\n",
       "\n",
       "    .dataframe thead th {\n",
       "        text-align: right;\n",
       "    }\n",
       "</style>\n",
       "<table border=\"1\" class=\"dataframe\">\n",
       "  <thead>\n",
       "    <tr style=\"text-align: right;\">\n",
       "      <th></th>\n",
       "      <th>Model Name</th>\n",
       "      <th>Accuracy Score (%)</th>\n",
       "      <th>Precision</th>\n",
       "      <th>Recall</th>\n",
       "    </tr>\n",
       "  </thead>\n",
       "  <tbody>\n",
       "    <tr>\n",
       "      <th>0</th>\n",
       "      <td>Logistic Reg. Training</td>\n",
       "      <td>49.834286</td>\n",
       "      <td>0.492292</td>\n",
       "      <td>0.498343</td>\n",
       "    </tr>\n",
       "    <tr>\n",
       "      <th>1</th>\n",
       "      <td>Logistic Reg. Testing</td>\n",
       "      <td>49.834286</td>\n",
       "      <td>0.492470</td>\n",
       "      <td>0.500533</td>\n",
       "    </tr>\n",
       "    <tr>\n",
       "      <th>2</th>\n",
       "      <td>Random Forest Training</td>\n",
       "      <td>99.400000</td>\n",
       "      <td>0.994005</td>\n",
       "      <td>0.994000</td>\n",
       "    </tr>\n",
       "    <tr>\n",
       "      <th>3</th>\n",
       "      <td>Random Forest Testing</td>\n",
       "      <td>95.240000</td>\n",
       "      <td>0.952350</td>\n",
       "      <td>0.952400</td>\n",
       "    </tr>\n",
       "    <tr>\n",
       "      <th>4</th>\n",
       "      <td>Random Forest(with Hyperparameters)Training</td>\n",
       "      <td>93.982857</td>\n",
       "      <td>0.941003</td>\n",
       "      <td>0.939829</td>\n",
       "    </tr>\n",
       "  </tbody>\n",
       "</table>\n",
       "</div>"
      ],
      "text/plain": [
       "                                    Model Name  Accuracy Score (%)  Precision  \\\n",
       "0                       Logistic Reg. Training           49.834286   0.492292   \n",
       "1                        Logistic Reg. Testing           49.834286   0.492470   \n",
       "2                       Random Forest Training           99.400000   0.994005   \n",
       "3                        Random Forest Testing           95.240000   0.952350   \n",
       "4  Random Forest(with Hyperparameters)Training           93.982857   0.941003   \n",
       "\n",
       "     Recall  \n",
       "0  0.498343  \n",
       "1  0.500533  \n",
       "2  0.994000  \n",
       "3  0.952400  \n",
       "4  0.939829  "
      ]
     },
     "execution_count": 158,
     "metadata": {},
     "output_type": "execute_result"
    }
   ],
   "source": [
    "precision = precision_score(y1train,y1train_pred_hyper_forest, average='weighted')\n",
    "recall = recall_score(y1train,y1train_pred_hyper_forest, average='weighted')\n",
    "Final_result(\"Random Forest(with Hyperparameters)Training\", Training_forest_accuracy, precision, recall)"
   ]
  },
  {
   "cell_type": "markdown",
   "id": "35b87e25",
   "metadata": {},
   "source": [
    "#### Testing"
   ]
  },
  {
   "cell_type": "code",
   "execution_count": 159,
   "id": "d06abb45",
   "metadata": {},
   "outputs": [],
   "source": [
    "y1test_pred_hyper_forest = Forest_hyper_model.predict(x1test)"
   ]
  },
  {
   "cell_type": "code",
   "execution_count": 160,
   "id": "e363bcf6",
   "metadata": {},
   "outputs": [
    {
     "name": "stdout",
     "output_type": "stream",
     "text": [
      "Accuracy = 0.9198666666666667\n",
      "classification_report =               precision    recall  f1-score   support\n",
      "\n",
      "           1       0.94      0.89      0.91      2480\n",
      "           2       0.88      0.92      0.90      2532\n",
      "           3       0.95      0.95      0.95      2488\n",
      "\n",
      "    accuracy                           0.92      7500\n",
      "   macro avg       0.92      0.92      0.92      7500\n",
      "weighted avg       0.92      0.92      0.92      7500\n",
      "\n",
      "confusion_matrix = [[2217  229   34]\n",
      " [ 114 2324   94]\n",
      " [  38   92 2358]]\n"
     ]
    }
   ],
   "source": [
    "Testing_forest_accuracy = accuracy_score(y1test,y1test_pred_hyper_forest)\n",
    "print(f\"Accuracy = {Testing_forest_accuracy}\")\n",
    "\n",
    "Testing_classification__forest_hyper = classification_report(y1test,y1test_pred_hyper_forest)\n",
    "print(f\"classification_report = {Testing_classification__forest_hyper}\")\n",
    "\n",
    "Testing_confusion_forest_hyper = confusion_matrix(y1test,y1test_pred_hyper_forest)\n",
    "print(f\"confusion_matrix = {Testing_confusion_forest_hyper}\")"
   ]
  },
  {
   "cell_type": "code",
   "execution_count": 161,
   "id": "64ea282c",
   "metadata": {},
   "outputs": [
    {
     "data": {
      "text/html": [
       "<div>\n",
       "<style scoped>\n",
       "    .dataframe tbody tr th:only-of-type {\n",
       "        vertical-align: middle;\n",
       "    }\n",
       "\n",
       "    .dataframe tbody tr th {\n",
       "        vertical-align: top;\n",
       "    }\n",
       "\n",
       "    .dataframe thead th {\n",
       "        text-align: right;\n",
       "    }\n",
       "</style>\n",
       "<table border=\"1\" class=\"dataframe\">\n",
       "  <thead>\n",
       "    <tr style=\"text-align: right;\">\n",
       "      <th></th>\n",
       "      <th>Model Name</th>\n",
       "      <th>Accuracy Score (%)</th>\n",
       "      <th>Precision</th>\n",
       "      <th>Recall</th>\n",
       "    </tr>\n",
       "  </thead>\n",
       "  <tbody>\n",
       "    <tr>\n",
       "      <th>0</th>\n",
       "      <td>Logistic Reg. Training</td>\n",
       "      <td>49.834286</td>\n",
       "      <td>0.492292</td>\n",
       "      <td>0.498343</td>\n",
       "    </tr>\n",
       "    <tr>\n",
       "      <th>1</th>\n",
       "      <td>Logistic Reg. Testing</td>\n",
       "      <td>49.834286</td>\n",
       "      <td>0.492470</td>\n",
       "      <td>0.500533</td>\n",
       "    </tr>\n",
       "    <tr>\n",
       "      <th>2</th>\n",
       "      <td>Random Forest Training</td>\n",
       "      <td>99.400000</td>\n",
       "      <td>0.994005</td>\n",
       "      <td>0.994000</td>\n",
       "    </tr>\n",
       "    <tr>\n",
       "      <th>3</th>\n",
       "      <td>Random Forest Testing</td>\n",
       "      <td>95.240000</td>\n",
       "      <td>0.952350</td>\n",
       "      <td>0.952400</td>\n",
       "    </tr>\n",
       "    <tr>\n",
       "      <th>4</th>\n",
       "      <td>Random Forest(with Hyperparameters)Training</td>\n",
       "      <td>93.982857</td>\n",
       "      <td>0.941003</td>\n",
       "      <td>0.939829</td>\n",
       "    </tr>\n",
       "    <tr>\n",
       "      <th>5</th>\n",
       "      <td>Random Forest(with Hyperparameters)Testing</td>\n",
       "      <td>91.986667</td>\n",
       "      <td>0.920732</td>\n",
       "      <td>0.919867</td>\n",
       "    </tr>\n",
       "  </tbody>\n",
       "</table>\n",
       "</div>"
      ],
      "text/plain": [
       "                                    Model Name  Accuracy Score (%)  Precision  \\\n",
       "0                       Logistic Reg. Training           49.834286   0.492292   \n",
       "1                        Logistic Reg. Testing           49.834286   0.492470   \n",
       "2                       Random Forest Training           99.400000   0.994005   \n",
       "3                        Random Forest Testing           95.240000   0.952350   \n",
       "4  Random Forest(with Hyperparameters)Training           93.982857   0.941003   \n",
       "5   Random Forest(with Hyperparameters)Testing           91.986667   0.920732   \n",
       "\n",
       "     Recall  \n",
       "0  0.498343  \n",
       "1  0.500533  \n",
       "2  0.994000  \n",
       "3  0.952400  \n",
       "4  0.939829  \n",
       "5  0.919867  "
      ]
     },
     "execution_count": 161,
     "metadata": {},
     "output_type": "execute_result"
    }
   ],
   "source": [
    "precision = precision_score(y1test,y1test_pred_hyper_forest, average='weighted')\n",
    "recall = recall_score(y1test,y1test_pred_hyper_forest, average='weighted')\n",
    "Final_result(\"Random Forest(with Hyperparameters)Testing\",Testing_forest_accuracy,precision, recall)"
   ]
  },
  {
   "cell_type": "code",
   "execution_count": 164,
   "id": "98985bf0",
   "metadata": {},
   "outputs": [],
   "source": [
    "with open(\"best_Liver_Cirrhosis_model.pkl\", \"wb\") as f:\n",
    "    pickle.dump(Forest_hyper_model, f)"
   ]
  },
  {
   "cell_type": "markdown",
   "id": "163ff700",
   "metadata": {},
   "source": [
    "<div style=\"color: Black; \n",
    "              display: fill;\n",
    "              text-align:center;\n",
    "              border-radius: 20px;\n",
    "              background-color: #003366;\n",
    "              box-shadow: rgba(0, 0, 0, 0.15) 0px 10px 5px, rgba(0, 0, 0, 0.12) 0px 6px 6px;\">\n",
    "    <h1 style=\"padding: 13px; \n",
    "                 color: White;\n",
    "                 font-size: 30px;\n",
    "                 font-weight: bold;\n",
    "                 font-family: Calibri;\">🔹Step 7 : Predict Liver Damage Stage from Dataset\n",
    "    </h1>\n",
    "</div>\n"
   ]
  },
  {
   "cell_type": "code",
   "execution_count": 162,
   "id": "63fd1169",
   "metadata": {},
   "outputs": [
    {
     "name": "stdout",
     "output_type": "stream",
     "text": [
      "✅ Model saved as final_random_forest_model.pkl\n"
     ]
    }
   ],
   "source": [
    "import joblib\n",
    "\n",
    "# Save the trained model (do this right after training is complete)\n",
    "joblib.dump(Forest_hyper_model, \"final_random_forest_model.pkl\")\n",
    "\n",
    "print(\"✅ Model saved as final_random_forest_model.pkl\")\n"
   ]
  },
  {
   "cell_type": "code",
   "execution_count": 163,
   "id": "b33d9504",
   "metadata": {},
   "outputs": [
    {
     "name": "stdout",
     "output_type": "stream",
     "text": [
      "🔍 Predicted vs Actual Liver Damage Stages:\n"
     ]
    },
    {
     "data": {
      "text/html": [
       "<div>\n",
       "<style scoped>\n",
       "    .dataframe tbody tr th:only-of-type {\n",
       "        vertical-align: middle;\n",
       "    }\n",
       "\n",
       "    .dataframe tbody tr th {\n",
       "        vertical-align: top;\n",
       "    }\n",
       "\n",
       "    .dataframe thead th {\n",
       "        text-align: right;\n",
       "    }\n",
       "</style>\n",
       "<table border=\"1\" class=\"dataframe\">\n",
       "  <thead>\n",
       "    <tr style=\"text-align: right;\">\n",
       "      <th></th>\n",
       "      <th>Actual Stage</th>\n",
       "      <th>Predicted Stage</th>\n",
       "    </tr>\n",
       "  </thead>\n",
       "  <tbody>\n",
       "    <tr>\n",
       "      <th>0</th>\n",
       "      <td>1</td>\n",
       "      <td>1</td>\n",
       "    </tr>\n",
       "    <tr>\n",
       "      <th>1</th>\n",
       "      <td>2</td>\n",
       "      <td>2</td>\n",
       "    </tr>\n",
       "    <tr>\n",
       "      <th>2</th>\n",
       "      <td>2</td>\n",
       "      <td>2</td>\n",
       "    </tr>\n",
       "    <tr>\n",
       "      <th>3</th>\n",
       "      <td>2</td>\n",
       "      <td>2</td>\n",
       "    </tr>\n",
       "    <tr>\n",
       "      <th>4</th>\n",
       "      <td>1</td>\n",
       "      <td>1</td>\n",
       "    </tr>\n",
       "  </tbody>\n",
       "</table>\n",
       "</div>"
      ],
      "text/plain": [
       "   Actual Stage  Predicted Stage\n",
       "0             1                1\n",
       "1             2                2\n",
       "2             2                2\n",
       "3             2                2\n",
       "4             1                1"
      ]
     },
     "execution_count": 163,
     "metadata": {},
     "output_type": "execute_result"
    }
   ],
   "source": [
    "import pandas as pd\n",
    "import joblib\n",
    "\n",
    "# Step 1: Load the trained model\n",
    "model = joblib.load(\"final_random_forest_model.pkl\")  # Forest_hyper_model\n",
    "\n",
    "# Step 2: Get first 5 records from df2 for prediction\n",
    "input_data = df2.head(5).copy()\n",
    "\n",
    "# Step 3: Predict the liver damage stage\n",
    "predicted = model.predict(input_data)\n",
    "\n",
    "# Step 4: Get actual values from df (first 5 'stage' values)\n",
    "actual = df[\"Stage\"].head(5).values\n",
    "\n",
    "# Step 5: Create a new DataFrame for clear comparison\n",
    "result_df = pd.DataFrame({\n",
    "    'Actual Stage': actual,\n",
    "    'Predicted Stage': predicted\n",
    "})\n",
    "\n",
    "# Step 6: Display the comparison\n",
    "print(\"🔍 Predicted vs Actual Liver Damage Stages:\")\n",
    "result_df\n"
   ]
  },
  {
   "cell_type": "markdown",
   "id": "58001a2c",
   "metadata": {},
   "source": [
    "<div style=\"color: Black; \n",
    "              display: fill;\n",
    "              text-align:center;\n",
    "              border-radius: 20px;\n",
    "              background-color: #003366;\n",
    "              box-shadow: rgba(0, 0, 0, 0.15) 0px 10px 5px, rgba(0, 0, 0, 0.12) 0px 6px 6px;\">\n",
    "    <h1 style=\"padding: 13px; \n",
    "                 color: White;\n",
    "                 font-size: 30px;\n",
    "                 font-weight: bold;\n",
    "                 font-family: Calibri;\">🔹Conclusion and Final Model Overview\n",
    "    </h1>\n",
    "</div>\n",
    "\n",
    "<div style=\"background-color:#e6f2ff; padding:30px; border-radius:8px; box-shadow:0 4px 10px rgba(0,0,0,0.1); margin-bottom:30px;\">\n",
    "    <p style=\"font-size:16px; line-height:1.6; margin-bottom:20px;\">\n",
    "        \n",
    "        \n",
    "        \n",
    "        \n",
    "\n",
    "<p style=\"font-size:16px; line-height:1.6; margin-bottom:20px;\">\n",
    "    In this project, we aimed to predict the stage of liver cirrhosis using a dataset consisting of multiple medical features. After experimenting with multiple machine learning algorithms, we decided to use the Random Forest algorithm with hyperparameter tuning, which gave the best results in terms of accuracy and performance.\n",
    "</p>\n",
    "\n",
    "<p style=\"font-size:16px; line-height:1.6; margin-bottom:20px;\">\n",
    "    Below is the performance evaluation of the Random Forest model after performing hyperparameter tuning:\n",
    "</p>\n",
    "\n",
    "<!-- Random Forest Hyperparameter Tuning Result Table -->\n",
    "<table style=\"width:100%; border-collapse:collapse; margin-bottom:30px;\">\n",
    "    <thead>\n",
    "        <tr style=\"background-color: #003366; color: white;\">\n",
    "            <th>Metric</th>\n",
    "            <th>Training (%)</th>\n",
    "            <th>Testing (%)</th>\n",
    "        </tr>\n",
    "    </thead>\n",
    "    <tbody>\n",
    "        <tr>\n",
    "            <td>Accuracy</td>\n",
    "            <td>93.98</td>\n",
    "            <td>91.99</td>\n",
    "        </tr>\n",
    "        <tr>\n",
    "            <td>Precision</td>\n",
    "            <td>94.10</td>\n",
    "            <td>92.07</td>\n",
    "        </tr>\n",
    "        <tr>\n",
    "            <td>Recall</td>\n",
    "            <td>93.98</td>\n",
    "            <td>91.98</td>\n",
    "        </tr>\n",
    "    </tbody>\n",
    "</table>\n",
    "\n",
    "<p style=\"font-size:16px; line-height:1.6; margin-bottom:20px;\">\n",
    "    As shown in the table above, Random Forest with hyperparameter tuning significantly improved the accuracy, precision, and recall, resulting in optimal performance for both the training and testing datasets.\n",
    "</p>\n",
    "\n",
    "<p style=\"font-size:16px; line-height:1.6; margin-bottom:20px;\">\n",
    "    The reason we chose Random Forest over Logistic Regression is its ability to handle complex relationships in the data and its robustness against overfitting. Random Forest is an ensemble method that combines multiple decision trees, offering better generalization compared to Logistic Regression, especially when there are nonlinear patterns in the data. Hyperparameter tuning further enhanced the model's performance by fine-tuning the tree depth, number of estimators, and other critical parameters, allowing the model to perform optimally.\n",
    "</p>\n",
    "\n",
    "<p style=\"font-size:16px; line-height:1.6; margin-bottom:20px;\">\n",
    "    Below is a comparison between the actual and predicted liver cirrhosis stages for a subset of the data:\n",
    "</p>\n",
    "\n",
    "<!-- Actual vs Predicted Stage Table -->\n",
    "<table style=\"width:100%; border-collapse:collapse; margin-bottom:30px;\">\n",
    "    <thead>\n",
    "        <tr style=\"background-color: #003366; color: white;\">\n",
    "            <th>Actual Stage</th>\n",
    "            <th>Predicted Stage</th>\n",
    "        </tr>\n",
    "    </thead>\n",
    "    <tbody>\n",
    "        <tr>\n",
    "            <td>1</td>\n",
    "            <td>1</td>\n",
    "        </tr>\n",
    "        <tr>\n",
    "            <td>2</td>\n",
    "            <td>2</td>\n",
    "        </tr>\n",
    "        <tr>\n",
    "            <td>2</td>\n",
    "            <td>2</td>\n",
    "        </tr>\n",
    "        <tr>\n",
    "            <td>2</td>\n",
    "            <td>2</td>\n",
    "        </tr>\n",
    "        <tr>\n",
    "            <td>1</td>\n",
    "            <td>1</td>\n",
    "        </tr>\n",
    "    </tbody>\n",
    "</table>\n",
    "\n",
    "<p style=\"font-size:16px; line-height:1.6; margin-bottom:20px;\">\n",
    "    As demonstrated, the predicted stages closely match the actual stages, indicating that the model performed well in predicting the liver cirrhosis stages.\n",
    "</p>\n",
    "\n",
    "<p style=\"font-size:16px; line-height:1.6; margin-bottom:20px;\">\n",
    "    Final Model Description:\n",
    "    The final model trained on the dataset can be used to predict the liver cirrhosis stage based on various medical features. To use the model, you can load the saved model using <strong>Pickle</strong> or <strong>Joblib</strong>:\n",
    "    <br>\n",
    "    After loading the model, you can feed new data (like patient information) to make predictions on the liver cirrhosis stage.\n",
    "</p>\n",
    "\n",
    "<p style=\"font-size:16px; line-height:1.6; margin-bottom:20px;\">\n",
    "    In conclusion, this project successfully implemented a Random Forest classifier for predicting liver cirrhosis stages, with high accuracy achieved through hyperparameter tuning.\n",
    "</p>\n"
   ]
  },
  {
   "cell_type": "code",
   "execution_count": null,
   "id": "1fa5479f",
   "metadata": {},
   "outputs": [],
   "source": []
  }
 ],
 "metadata": {
  "kernelspec": {
   "display_name": "Python 3 (ipykernel)",
   "language": "python",
   "name": "python3"
  },
  "language_info": {
   "codemirror_mode": {
    "name": "ipython",
    "version": 3
   },
   "file_extension": ".py",
   "mimetype": "text/x-python",
   "name": "python",
   "nbconvert_exporter": "python",
   "pygments_lexer": "ipython3",
   "version": "3.10.9"
  }
 },
 "nbformat": 4,
 "nbformat_minor": 5
}
